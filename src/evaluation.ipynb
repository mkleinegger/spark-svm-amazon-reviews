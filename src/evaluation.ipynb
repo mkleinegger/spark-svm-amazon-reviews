{
 "cells": [
  {
   "cell_type": "markdown",
   "metadata": {},
   "source": [
    "# Evaluation\n",
    "This code contains all the necessary code to perform the necessary evaluations of the individual parts."
   ]
  },
  {
   "cell_type": "code",
   "execution_count": 152,
   "metadata": {},
   "outputs": [],
   "source": [
    "file_output_exercise1 = \"../output.txt\"\n",
    "file_output_exercise2_rdd = \"../output_rdd.txt\"\n",
    "file_output_exercise2_ds = \"../output_ds.txt\""
   ]
  },
  {
   "cell_type": "markdown",
   "metadata": {},
   "source": [
    "## Load results"
   ]
  },
  {
   "cell_type": "code",
   "execution_count": 153,
   "metadata": {},
   "outputs": [],
   "source": [
    "def parse_file(file_path):\n",
    "    category_terms = {}\n",
    "    with open(file_path, 'r') as file:\n",
    "        lines = file.readlines()    \n",
    "\n",
    "    merged_dict = None\n",
    "\n",
    "    for line in lines:\n",
    "        if line.startswith('<'):\n",
    "            line_splitted = line.split(' ')\n",
    "            category = line_splitted[0].replace('<', '').replace('>', '')\n",
    "            terms = line_splitted[1:]\n",
    "            for term_chisquared in terms:\n",
    "                term, chi_squared = term_chisquared.split(':', 2)\n",
    "                if category not in category_terms:\n",
    "                    category_terms[category] = {}\n",
    "\n",
    "                category_terms[category][term] = float(chi_squared)\n",
    "        else:\n",
    "\n",
    "            merged_dict = line.split(' ')\n",
    "                \n",
    "       \n",
    "    return category_terms, merged_dict"
   ]
  },
  {
   "cell_type": "code",
   "execution_count": 154,
   "metadata": {},
   "outputs": [],
   "source": [
    "chi_squared_ex1, merged_dict_ex1 = parse_file(file_output_exercise1)\n",
    "chi_squared_ex2_rdd, merged_dict_ex2_rdd = parse_file(file_output_exercise2_rdd)\n",
    "_, merged_dict_ex2_ds = parse_file(file_output_exercise2_ds)"
   ]
  },
  {
   "cell_type": "markdown",
   "metadata": {},
   "source": [
    "## Part 1"
   ]
  },
  {
   "cell_type": "code",
   "execution_count": 155,
   "metadata": {},
   "outputs": [],
   "source": [
    "from collections import defaultdict\n",
    "\n",
    "def compareResults(chi_squared1, chi_squared2):\n",
    "    result = {}\n",
    "    missing_categories = defaultdict(list)\n",
    "    for category in chi_squared1:\n",
    "        result[category] = {}\n",
    "\n",
    "        for term in chi_squared1[category]:\n",
    "            result[category][term] = True\n",
    "            if term in chi_squared2[category]:\n",
    "                result[category][term] &= abs(chi_squared1[category][term] - chi_squared2[category][term]) < 0.001\n",
    "            else:\n",
    "                result[category][term] &= False\n",
    "                missing_categories[category].append(((term, chi_squared1[category][term]), 'mapreduce'))\n",
    "\n",
    "    for category in chi_squared2:\n",
    "        for term in chi_squared2[category]:\n",
    "            if term not in chi_squared1[category]:\n",
    "                result[category][term] = False\n",
    "                missing_categories[category].append(((term, chi_squared2[category][term]), 'rdd'))\n",
    "\n",
    "    return result, missing_categories\n"
   ]
  },
  {
   "cell_type": "code",
   "execution_count": 156,
   "metadata": {},
   "outputs": [],
   "source": [
    "result, missing_categories = compareResults(chi_squared_ex1, chi_squared_ex2_rdd)"
   ]
  },
  {
   "cell_type": "code",
   "execution_count": 157,
   "metadata": {},
   "outputs": [
    {
     "name": "stdout",
     "output_type": "stream",
     "text": [
      "Category: Apps_for_Android Term: devs\n",
      "Category: Apps_for_Android Term: glu\n",
      "Category: Apps_for_Android Term: teamlava\n",
      "Category: Apps_for_Android Term: zynga\n",
      "Category: Tools_and_Home_Improvement Term: bidet\n",
      "Category: Tools_and_Home_Improvement Term: kidde\n",
      "Total of different terms: 6\n"
     ]
    }
   ],
   "source": [
    "def print_results(result):\n",
    "    cnt = 0\n",
    "    for category, term_difference in result.items():\n",
    "        for term, is_different in term_difference.items():\n",
    "            if is_different == False:\n",
    "                cnt += 1\n",
    "                print(f\"Category: {category} Term: {term}\")\n",
    "\n",
    "    print(f\"Total of different terms: {cnt}\")\n",
    "\n",
    "print_results(result)"
   ]
  },
  {
   "cell_type": "code",
   "execution_count": 158,
   "metadata": {},
   "outputs": [
    {
     "data": {
      "text/plain": [
       "defaultdict(list,\n",
       "            {'Apps_for_Android': [(('devs', 86.64962060177764), 'mapreduce'),\n",
       "              (('glu', 86.64962060177764), 'mapreduce'),\n",
       "              (('teamlava', 86.64962060177764), 'rdd'),\n",
       "              (('zynga', 86.64962060177764), 'rdd')],\n",
       "             'Tools_and_Home_Improvement': [(('bidet', 159.72357729489363),\n",
       "               'mapreduce'),\n",
       "              (('kidde', 159.72357729489363), 'rdd')]})"
      ]
     },
     "execution_count": 158,
     "metadata": {},
     "output_type": "execute_result"
    }
   ],
   "source": [
    "missing_categories"
   ]
  },
  {
   "cell_type": "markdown",
   "metadata": {},
   "source": [
    "## Part 2"
   ]
  },
  {
   "cell_type": "code",
   "execution_count": 159,
   "metadata": {},
   "outputs": [],
   "source": [
    "def containsAll(merged_dict_rdd, merged_dict_ds):\n",
    "    not_contained = []\n",
    "    for term in merged_dict_rdd:\n",
    "        if term not in merged_dict_ds:\n",
    "            not_contained.append(term)\n",
    "\n",
    "    return not_contained"
   ]
  },
  {
   "cell_type": "code",
   "execution_count": 166,
   "metadata": {},
   "outputs": [],
   "source": [
    "result = containsAll(merged_dict_ex2_rdd, merged_dict_ex2_ds)"
   ]
  },
  {
   "cell_type": "code",
   "execution_count": 168,
   "metadata": {},
   "outputs": [
    {
     "data": {
      "text/plain": [
       "(1464, 2000, 1250)"
      ]
     },
     "execution_count": 168,
     "metadata": {},
     "output_type": "execute_result"
    }
   ],
   "source": [
    "len(merged_dict_ex2_rdd), len(merged_dict_ex2_ds), len(result)"
   ]
  },
  {
   "cell_type": "markdown",
   "metadata": {},
   "source": [
    "## Part 3"
   ]
  },
  {
   "cell_type": "markdown",
   "metadata": {},
   "source": []
  }
 ],
 "metadata": {
  "kernelspec": {
   "display_name": "Python 3",
   "language": "python",
   "name": "python3"
  },
  "language_info": {
   "codemirror_mode": {
    "name": "ipython",
    "version": 3
   },
   "file_extension": ".py",
   "mimetype": "text/x-python",
   "name": "python",
   "nbconvert_exporter": "python",
   "pygments_lexer": "ipython3",
   "version": "3.9.18"
  }
 },
 "nbformat": 4,
 "nbformat_minor": 2
}
