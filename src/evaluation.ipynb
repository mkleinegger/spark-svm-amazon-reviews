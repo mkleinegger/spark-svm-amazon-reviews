{
 "cells": [
  {
   "cell_type": "markdown",
   "metadata": {},
   "source": [
    "# Evaluation\n",
    "This code contains all the necessary code to perform the necessary evaluations of the individual parts."
   ]
  },
  {
   "cell_type": "code",
   "execution_count": 152,
   "metadata": {},
   "outputs": [],
   "source": [
    "file_output_exercise1 = \"../output.txt\"\n",
    "file_output_exercise2_rdd = \"../output_rdd.txt\"\n",
    "file_output_exercise2_ds = \"../output_ds.txt\"\n",
    "file_grid_search_evaluation = \"../grid_search_evaluation.csv\""
   ]
  },
  {
   "cell_type": "markdown",
   "metadata": {},
   "source": [
    "## Load results"
   ]
  },
  {
   "cell_type": "code",
   "execution_count": 153,
   "metadata": {},
   "outputs": [],
   "source": [
    "def parse_file(file_path):\n",
    "    category_terms = {}\n",
    "    with open(file_path, 'r') as file:\n",
    "        lines = file.readlines()    \n",
    "\n",
    "    merged_dict = None\n",
    "\n",
    "    for line in lines:\n",
    "        if line.startswith('<'):\n",
    "            line_splitted = line.split(' ')\n",
    "            category = line_splitted[0].replace('<', '').replace('>', '')\n",
    "            terms = line_splitted[1:]\n",
    "            for term_chisquared in terms:\n",
    "                term, chi_squared = term_chisquared.split(':', 2)\n",
    "                if category not in category_terms:\n",
    "                    category_terms[category] = {}\n",
    "\n",
    "                category_terms[category][term] = float(chi_squared)\n",
    "        else:\n",
    "\n",
    "            merged_dict = line.split(' ')\n",
    "                \n",
    "       \n",
    "    return category_terms, merged_dict"
   ]
  },
  {
   "cell_type": "code",
   "execution_count": 154,
   "metadata": {},
   "outputs": [],
   "source": [
    "chi_squared_ex1, merged_dict_ex1 = parse_file(file_output_exercise1)\n",
    "chi_squared_ex2_rdd, merged_dict_ex2_rdd = parse_file(file_output_exercise2_rdd)\n",
    "_, merged_dict_ex2_ds = parse_file(file_output_exercise2_ds)"
   ]
  },
  {
   "cell_type": "markdown",
   "metadata": {},
   "source": [
    "## Part 1"
   ]
  },
  {
   "cell_type": "code",
   "execution_count": 155,
   "metadata": {},
   "outputs": [],
   "source": [
    "from collections import defaultdict\n",
    "\n",
    "def compareResults(chi_squared1, chi_squared2):\n",
    "    result = {}\n",
    "    missing_categories = defaultdict(list)\n",
    "    for category in chi_squared1:\n",
    "        result[category] = {}\n",
    "\n",
    "        for term in chi_squared1[category]:\n",
    "            result[category][term] = True\n",
    "            if term in chi_squared2[category]:\n",
    "                result[category][term] &= abs(chi_squared1[category][term] - chi_squared2[category][term]) < 0.001\n",
    "            else:\n",
    "                result[category][term] &= False\n",
    "                missing_categories[category].append(((term, chi_squared1[category][term]), 'mapreduce'))\n",
    "\n",
    "    for category in chi_squared2:\n",
    "        for term in chi_squared2[category]:\n",
    "            if term not in chi_squared1[category]:\n",
    "                result[category][term] = False\n",
    "                missing_categories[category].append(((term, chi_squared2[category][term]), 'rdd'))\n",
    "\n",
    "    return result, missing_categories\n"
   ]
  },
  {
   "cell_type": "code",
   "execution_count": 156,
   "metadata": {},
   "outputs": [],
   "source": [
    "result, missing_categories = compareResults(chi_squared_ex1, chi_squared_ex2_rdd)"
   ]
  },
  {
   "cell_type": "code",
   "execution_count": 157,
   "metadata": {},
   "outputs": [
    {
     "name": "stdout",
     "output_type": "stream",
     "text": [
      "Category: Apps_for_Android Term: devs\n",
      "Category: Apps_for_Android Term: glu\n",
      "Category: Apps_for_Android Term: teamlava\n",
      "Category: Apps_for_Android Term: zynga\n",
      "Category: Tools_and_Home_Improvement Term: bidet\n",
      "Category: Tools_and_Home_Improvement Term: kidde\n",
      "Total of different terms: 6\n"
     ]
    }
   ],
   "source": [
    "def print_results(result):\n",
    "    cnt = 0\n",
    "    for category, term_difference in result.items():\n",
    "        for term, is_different in term_difference.items():\n",
    "            if is_different == False:\n",
    "                cnt += 1\n",
    "                print(f\"Category: {category} Term: {term}\")\n",
    "\n",
    "    print(f\"Total of different terms: {cnt}\")\n",
    "\n",
    "print_results(result)"
   ]
  },
  {
   "cell_type": "code",
   "execution_count": 158,
   "metadata": {},
   "outputs": [
    {
     "data": {
      "text/plain": [
       "defaultdict(list,\n",
       "            {'Apps_for_Android': [(('devs', 86.64962060177764), 'mapreduce'),\n",
       "              (('glu', 86.64962060177764), 'mapreduce'),\n",
       "              (('teamlava', 86.64962060177764), 'rdd'),\n",
       "              (('zynga', 86.64962060177764), 'rdd')],\n",
       "             'Tools_and_Home_Improvement': [(('bidet', 159.72357729489363),\n",
       "               'mapreduce'),\n",
       "              (('kidde', 159.72357729489363), 'rdd')]})"
      ]
     },
     "execution_count": 158,
     "metadata": {},
     "output_type": "execute_result"
    }
   ],
   "source": [
    "missing_categories"
   ]
  },
  {
   "cell_type": "markdown",
   "metadata": {},
   "source": [
    "## Part 2"
   ]
  },
  {
   "cell_type": "code",
   "execution_count": 159,
   "metadata": {},
   "outputs": [],
   "source": [
    "def containsAll(merged_dict_rdd, merged_dict_ds):\n",
    "    not_contained = []\n",
    "    for term in merged_dict_rdd:\n",
    "        if term not in merged_dict_ds:\n",
    "            not_contained.append(term)\n",
    "\n",
    "    return not_contained"
   ]
  },
  {
   "cell_type": "code",
   "execution_count": 166,
   "metadata": {},
   "outputs": [],
   "source": [
    "result = containsAll(merged_dict_ex2_rdd, merged_dict_ex2_ds)"
   ]
  },
  {
   "cell_type": "code",
   "execution_count": 168,
   "metadata": {},
   "outputs": [
    {
     "data": {
      "text/plain": [
       "(1464, 2000, 1250)"
      ]
     },
     "execution_count": 168,
     "metadata": {},
     "output_type": "execute_result"
    }
   ],
   "source": [
    "len(merged_dict_ex2_rdd), len(merged_dict_ex2_ds), len(result)"
   ]
  },
  {
   "cell_type": "markdown",
   "metadata": {},
   "source": [
    "## Part 3"
   ]
  },
  {
   "cell_type": "markdown",
   "metadata": {},
   "source": []
  },
  {
   "cell_type": "code",
   "execution_count": null,
   "metadata": {},
   "outputs": [],
   "source": [
    "import pandas as pd\n",
    "import seaborn as sns\n",
    "import matplotlib.pyplot as plt\n",
    "\n",
    "df = pd.read_csv(file_grid_search_evaluation)\n",
    "df.columns = df.columns.str.strip() \n",
    "\n",
    "df[\"maxIter\"] = df[\"maxIter\"].astype(str)\n",
    "df[\"NumTopFeatures\"] = df[\"NumTopFeatures\"].astype(str)\n",
    "df[\"regParam\"] = df[\"regParam\"].astype(str)\n",
    "df[\"standardization\"] = df[\"standardization\"].astype(str)"
   ]
  },
  {
   "cell_type": "code",
   "execution_count": null,
   "metadata": {},
   "outputs": [
    {
     "data": {
      "text/html": [
       "<div>\n",
       "<style scoped>\n",
       "    .dataframe tbody tr th:only-of-type {\n",
       "        vertical-align: middle;\n",
       "    }\n",
       "\n",
       "    .dataframe tbody tr th {\n",
       "        vertical-align: top;\n",
       "    }\n",
       "\n",
       "    .dataframe thead th {\n",
       "        text-align: right;\n",
       "    }\n",
       "</style>\n",
       "<table border=\"1\" class=\"dataframe\">\n",
       "  <thead>\n",
       "    <tr style=\"text-align: right;\">\n",
       "      <th></th>\n",
       "      <th>maxIter</th>\n",
       "      <th>NumTopFeatures</th>\n",
       "      <th>regParam</th>\n",
       "      <th>standardization</th>\n",
       "      <th>f1-score</th>\n",
       "    </tr>\n",
       "  </thead>\n",
       "  <tbody>\n",
       "    <tr>\n",
       "      <th>0</th>\n",
       "      <td>10</td>\n",
       "      <td>20</td>\n",
       "      <td>0.001</td>\n",
       "      <td>False</td>\n",
       "      <td>0.244530</td>\n",
       "    </tr>\n",
       "    <tr>\n",
       "      <th>1</th>\n",
       "      <td>50</td>\n",
       "      <td>20</td>\n",
       "      <td>0.001</td>\n",
       "      <td>False</td>\n",
       "      <td>0.253933</td>\n",
       "    </tr>\n",
       "    <tr>\n",
       "      <th>2</th>\n",
       "      <td>10</td>\n",
       "      <td>20</td>\n",
       "      <td>0.001</td>\n",
       "      <td>True</td>\n",
       "      <td>0.247545</td>\n",
       "    </tr>\n",
       "    <tr>\n",
       "      <th>3</th>\n",
       "      <td>50</td>\n",
       "      <td>20</td>\n",
       "      <td>0.001</td>\n",
       "      <td>True</td>\n",
       "      <td>0.239803</td>\n",
       "    </tr>\n",
       "    <tr>\n",
       "      <th>4</th>\n",
       "      <td>10</td>\n",
       "      <td>2000</td>\n",
       "      <td>0.001</td>\n",
       "      <td>False</td>\n",
       "      <td>0.399768</td>\n",
       "    </tr>\n",
       "    <tr>\n",
       "      <th>5</th>\n",
       "      <td>50</td>\n",
       "      <td>2000</td>\n",
       "      <td>0.001</td>\n",
       "      <td>False</td>\n",
       "      <td>0.451065</td>\n",
       "    </tr>\n",
       "    <tr>\n",
       "      <th>6</th>\n",
       "      <td>10</td>\n",
       "      <td>2000</td>\n",
       "      <td>0.001</td>\n",
       "      <td>True</td>\n",
       "      <td>0.430844</td>\n",
       "    </tr>\n",
       "    <tr>\n",
       "      <th>7</th>\n",
       "      <td>50</td>\n",
       "      <td>2000</td>\n",
       "      <td>0.001</td>\n",
       "      <td>True</td>\n",
       "      <td>0.422536</td>\n",
       "    </tr>\n",
       "    <tr>\n",
       "      <th>8</th>\n",
       "      <td>10</td>\n",
       "      <td>20</td>\n",
       "      <td>0.01</td>\n",
       "      <td>False</td>\n",
       "      <td>0.230873</td>\n",
       "    </tr>\n",
       "    <tr>\n",
       "      <th>9</th>\n",
       "      <td>50</td>\n",
       "      <td>20</td>\n",
       "      <td>0.01</td>\n",
       "      <td>False</td>\n",
       "      <td>0.255260</td>\n",
       "    </tr>\n",
       "    <tr>\n",
       "      <th>10</th>\n",
       "      <td>10</td>\n",
       "      <td>20</td>\n",
       "      <td>0.01</td>\n",
       "      <td>True</td>\n",
       "      <td>0.245100</td>\n",
       "    </tr>\n",
       "    <tr>\n",
       "      <th>11</th>\n",
       "      <td>50</td>\n",
       "      <td>20</td>\n",
       "      <td>0.01</td>\n",
       "      <td>True</td>\n",
       "      <td>0.230055</td>\n",
       "    </tr>\n",
       "    <tr>\n",
       "      <th>12</th>\n",
       "      <td>10</td>\n",
       "      <td>2000</td>\n",
       "      <td>0.01</td>\n",
       "      <td>False</td>\n",
       "      <td>0.198632</td>\n",
       "    </tr>\n",
       "    <tr>\n",
       "      <th>13</th>\n",
       "      <td>50</td>\n",
       "      <td>2000</td>\n",
       "      <td>0.01</td>\n",
       "      <td>False</td>\n",
       "      <td>0.413916</td>\n",
       "    </tr>\n",
       "    <tr>\n",
       "      <th>14</th>\n",
       "      <td>10</td>\n",
       "      <td>2000</td>\n",
       "      <td>0.01</td>\n",
       "      <td>True</td>\n",
       "      <td>0.422287</td>\n",
       "    </tr>\n",
       "    <tr>\n",
       "      <th>15</th>\n",
       "      <td>50</td>\n",
       "      <td>2000</td>\n",
       "      <td>0.01</td>\n",
       "      <td>True</td>\n",
       "      <td>0.426214</td>\n",
       "    </tr>\n",
       "    <tr>\n",
       "      <th>16</th>\n",
       "      <td>10</td>\n",
       "      <td>20</td>\n",
       "      <td>0.1</td>\n",
       "      <td>False</td>\n",
       "      <td>0.164528</td>\n",
       "    </tr>\n",
       "    <tr>\n",
       "      <th>17</th>\n",
       "      <td>50</td>\n",
       "      <td>20</td>\n",
       "      <td>0.1</td>\n",
       "      <td>False</td>\n",
       "      <td>0.272399</td>\n",
       "    </tr>\n",
       "    <tr>\n",
       "      <th>18</th>\n",
       "      <td>10</td>\n",
       "      <td>20</td>\n",
       "      <td>0.1</td>\n",
       "      <td>True</td>\n",
       "      <td>0.236164</td>\n",
       "    </tr>\n",
       "    <tr>\n",
       "      <th>19</th>\n",
       "      <td>50</td>\n",
       "      <td>20</td>\n",
       "      <td>0.1</td>\n",
       "      <td>True</td>\n",
       "      <td>0.189469</td>\n",
       "    </tr>\n",
       "    <tr>\n",
       "      <th>20</th>\n",
       "      <td>10</td>\n",
       "      <td>2000</td>\n",
       "      <td>0.1</td>\n",
       "      <td>False</td>\n",
       "      <td>0.121846</td>\n",
       "    </tr>\n",
       "    <tr>\n",
       "      <th>21</th>\n",
       "      <td>50</td>\n",
       "      <td>2000</td>\n",
       "      <td>0.1</td>\n",
       "      <td>False</td>\n",
       "      <td>0.415682</td>\n",
       "    </tr>\n",
       "    <tr>\n",
       "      <th>22</th>\n",
       "      <td>10</td>\n",
       "      <td>2000</td>\n",
       "      <td>0.1</td>\n",
       "      <td>True</td>\n",
       "      <td>0.435021</td>\n",
       "    </tr>\n",
       "    <tr>\n",
       "      <th>23</th>\n",
       "      <td>50</td>\n",
       "      <td>2000</td>\n",
       "      <td>0.1</td>\n",
       "      <td>True</td>\n",
       "      <td>0.435813</td>\n",
       "    </tr>\n",
       "  </tbody>\n",
       "</table>\n",
       "</div>"
      ],
      "text/plain": [
       "   maxIter NumTopFeatures regParam standardization  f1-score\n",
       "0       10             20    0.001           False  0.244530\n",
       "1       50             20    0.001           False  0.253933\n",
       "2       10             20    0.001            True  0.247545\n",
       "3       50             20    0.001            True  0.239803\n",
       "4       10           2000    0.001           False  0.399768\n",
       "5       50           2000    0.001           False  0.451065\n",
       "6       10           2000    0.001            True  0.430844\n",
       "7       50           2000    0.001            True  0.422536\n",
       "8       10             20     0.01           False  0.230873\n",
       "9       50             20     0.01           False  0.255260\n",
       "10      10             20     0.01            True  0.245100\n",
       "11      50             20     0.01            True  0.230055\n",
       "12      10           2000     0.01           False  0.198632\n",
       "13      50           2000     0.01           False  0.413916\n",
       "14      10           2000     0.01            True  0.422287\n",
       "15      50           2000     0.01            True  0.426214\n",
       "16      10             20      0.1           False  0.164528\n",
       "17      50             20      0.1           False  0.272399\n",
       "18      10             20      0.1            True  0.236164\n",
       "19      50             20      0.1            True  0.189469\n",
       "20      10           2000      0.1           False  0.121846\n",
       "21      50           2000      0.1           False  0.415682\n",
       "22      10           2000      0.1            True  0.435021\n",
       "23      50           2000      0.1            True  0.435813"
      ]
     },
     "metadata": {},
     "output_type": "display_data"
    }
   ],
   "source": [
    "df"
   ]
  },
  {
   "cell_type": "code",
   "execution_count": null,
   "metadata": {},
   "outputs": [
    {
     "data": {
      "text/plain": [
       "[Text(0.5, 0, 'Model'), Text(0, 0.5, 'F1-Score')]"
      ]
     },
     "metadata": {},
     "output_type": "display_data"
    },
    {
     "data": {
      "image/png": "[encoded data removed]",
      "text/plain": [
       "<Figure size 640x480 with 1 Axes>"
      ]
     },
     "metadata": {},
     "output_type": "display_data"
    }
   ],
   "source": [
    "ax = sns.barplot(df, x=df.index, y=\"f1-score\", fill=\"f1-score\")\n",
    "ax.set(xlabel=\"Model\",ylabel=\"F1-Score\")"
   ]
  },
  {
   "cell_type": "code",
   "execution_count": null,
   "metadata": {},
   "outputs": [
    {
     "data": {
      "text/html": [
       "<div>\n",
       "<style scoped>\n",
       "    .dataframe tbody tr th:only-of-type {\n",
       "        vertical-align: middle;\n",
       "    }\n",
       "\n",
       "    .dataframe tbody tr th {\n",
       "        vertical-align: top;\n",
       "    }\n",
       "\n",
       "    .dataframe thead th {\n",
       "        text-align: right;\n",
       "    }\n",
       "</style>\n",
       "<table border=\"1\" class=\"dataframe\">\n",
       "  <thead>\n",
       "    <tr style=\"text-align: right;\">\n",
       "      <th></th>\n",
       "      <th>maxIter</th>\n",
       "      <th>NumTopFeatures</th>\n",
       "      <th>regParam</th>\n",
       "      <th>standardization</th>\n",
       "      <th>f1-score</th>\n",
       "    </tr>\n",
       "  </thead>\n",
       "  <tbody>\n",
       "    <tr>\n",
       "      <th>4</th>\n",
       "      <td>10</td>\n",
       "      <td>2000</td>\n",
       "      <td>0.001</td>\n",
       "      <td>False</td>\n",
       "      <td>0.399768</td>\n",
       "    </tr>\n",
       "    <tr>\n",
       "      <th>5</th>\n",
       "      <td>50</td>\n",
       "      <td>2000</td>\n",
       "      <td>0.001</td>\n",
       "      <td>False</td>\n",
       "      <td>0.451065</td>\n",
       "    </tr>\n",
       "    <tr>\n",
       "      <th>6</th>\n",
       "      <td>10</td>\n",
       "      <td>2000</td>\n",
       "      <td>0.001</td>\n",
       "      <td>True</td>\n",
       "      <td>0.430844</td>\n",
       "    </tr>\n",
       "    <tr>\n",
       "      <th>7</th>\n",
       "      <td>50</td>\n",
       "      <td>2000</td>\n",
       "      <td>0.001</td>\n",
       "      <td>True</td>\n",
       "      <td>0.422536</td>\n",
       "    </tr>\n",
       "    <tr>\n",
       "      <th>13</th>\n",
       "      <td>50</td>\n",
       "      <td>2000</td>\n",
       "      <td>0.01</td>\n",
       "      <td>False</td>\n",
       "      <td>0.413916</td>\n",
       "    </tr>\n",
       "    <tr>\n",
       "      <th>14</th>\n",
       "      <td>10</td>\n",
       "      <td>2000</td>\n",
       "      <td>0.01</td>\n",
       "      <td>True</td>\n",
       "      <td>0.422287</td>\n",
       "    </tr>\n",
       "    <tr>\n",
       "      <th>15</th>\n",
       "      <td>50</td>\n",
       "      <td>2000</td>\n",
       "      <td>0.01</td>\n",
       "      <td>True</td>\n",
       "      <td>0.426214</td>\n",
       "    </tr>\n",
       "    <tr>\n",
       "      <th>21</th>\n",
       "      <td>50</td>\n",
       "      <td>2000</td>\n",
       "      <td>0.1</td>\n",
       "      <td>False</td>\n",
       "      <td>0.415682</td>\n",
       "    </tr>\n",
       "    <tr>\n",
       "      <th>22</th>\n",
       "      <td>10</td>\n",
       "      <td>2000</td>\n",
       "      <td>0.1</td>\n",
       "      <td>True</td>\n",
       "      <td>0.435021</td>\n",
       "    </tr>\n",
       "    <tr>\n",
       "      <th>23</th>\n",
       "      <td>50</td>\n",
       "      <td>2000</td>\n",
       "      <td>0.1</td>\n",
       "      <td>True</td>\n",
       "      <td>0.435813</td>\n",
       "    </tr>\n",
       "  </tbody>\n",
       "</table>\n",
       "</div>"
      ],
      "text/plain": [
       "   maxIter NumTopFeatures regParam standardization  f1-score\n",
       "4       10           2000    0.001           False  0.399768\n",
       "5       50           2000    0.001           False  0.451065\n",
       "6       10           2000    0.001            True  0.430844\n",
       "7       50           2000    0.001            True  0.422536\n",
       "13      50           2000     0.01           False  0.413916\n",
       "14      10           2000     0.01            True  0.422287\n",
       "15      50           2000     0.01            True  0.426214\n",
       "21      50           2000      0.1           False  0.415682\n",
       "22      10           2000      0.1            True  0.435021\n",
       "23      50           2000      0.1            True  0.435813"
      ]
     },
     "metadata": {},
     "output_type": "display_data"
    }
   ],
   "source": [
    "df[df[\"f1-score\"] > .3]"
   ]
  },
  {
   "cell_type": "code",
   "execution_count": null,
   "metadata": {},
   "outputs": [
    {
     "data": {
      "image/png": "[encoded data removed]",
      "text/plain": [
       "<Figure size 1000x800 with 4 Axes>"
      ]
     },
     "metadata": {},
     "output_type": "display_data"
    }
   ],
   "source": [
    "palette_name = \"muted\"\n",
    "columns = ['NumTopFeatures', 'maxIter', 'regParam', 'standardization']\n",
    "titles = ['NumTopFeatures vs f1-score', 'maxIter vs f1-score', 'regParam vs f1-score', 'standardization vs f1-score']\n",
    "\n",
    "\n",
    "fig, axs = plt.subplots(2, 2, figsize=(10, 8))\n",
    "\n",
    "for i, col in enumerate(columns):\n",
    "    row_index = i // 2\n",
    "    col_index = i % 2\n",
    "    \n",
    "    sns.scatterplot(data=df, x=col, y='f1-score', hue='NumTopFeatures', palette=palette_name, ax=axs[row_index, col_index])\n",
    "    \n",
    "    axs[row_index, col_index].set_title(titles[i])\n",
    "    axs[row_index, col_index].set_xlabel(col)\n",
    "    axs[row_index, col_index].set_ylabel('f1-score')\n",
    "\n",
    "plt.tight_layout()\n",
    "plt.show()\n"
   ]
  }
 ],
 "metadata": {
  "kernelspec": {
   "display_name": "Python 3",
   "language": "python",
   "name": "python3"
  },
  "language_info": {
   "codemirror_mode": {
    "name": "ipython",
    "version": 3
   },
   "file_extension": ".py",
   "mimetype": "text/x-python",
   "name": "python",
   "nbconvert_exporter": "python",
   "pygments_lexer": "ipython3",
   "version": "3.9.18"
  }
 },
 "nbformat": 4,
 "nbformat_minor": 2
}
