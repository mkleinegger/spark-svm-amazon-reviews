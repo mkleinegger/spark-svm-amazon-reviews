{
 "cells": [
  {
   "cell_type": "markdown",
   "metadata": {},
   "source": [
    "# Evaluation\n",
    "This code contains all the necessary code to perform the necessary evaluations of the individual parts."
   ]
  },
  {
   "cell_type": "code",
   "execution_count": 1,
   "metadata": {},
   "outputs": [],
   "source": [
    "file_output_exercise1 = \"../output.txt\"\n",
    "file_output_exercise2_rdd = \"../output_rdd.txt\"\n",
    "file_output_exercise2_ds = \"../output_ds.txt\"\n",
    "file_grid_search_evaluation = \"../grid_search_evaluation.csv\""
   ]
  },
  {
   "cell_type": "markdown",
   "metadata": {},
   "source": [
    "## Load results"
   ]
  },
  {
   "cell_type": "markdown",
   "metadata": {},
   "source": [
    "This function is utilized to read and parse the output files of the designated exercises, as the categories, tokens, and chi-square values are embedded in a specific format."
   ]
  },
  {
   "cell_type": "code",
   "execution_count": 2,
   "metadata": {},
   "outputs": [],
   "source": [
    "def parse_file(file_path):\n",
    "    category_terms = {}\n",
    "    with open(file_path, 'r') as file:\n",
    "        lines = file.readlines()    \n",
    "\n",
    "    merged_dict = None\n",
    "\n",
    "    for line in lines:\n",
    "        if line.startswith('<'):\n",
    "            line_splitted = line.split(' ')\n",
    "            category = line_splitted[0].replace('<', '').replace('>', '')\n",
    "            terms = line_splitted[1:]\n",
    "            for term_chisquared in terms:\n",
    "                term, chi_squared = term_chisquared.split(':', 2)\n",
    "                if category not in category_terms:\n",
    "                    category_terms[category] = {}\n",
    "\n",
    "                category_terms[category][term] = float(chi_squared)\n",
    "        else:\n",
    "\n",
    "            merged_dict = line.split(' ')\n",
    "                \n",
    "       \n",
    "    return category_terms, merged_dict"
   ]
  },
  {
   "cell_type": "code",
   "execution_count": 3,
   "metadata": {},
   "outputs": [],
   "source": [
    "chi_squared_ex1, merged_dict_ex1 = parse_file(file_output_exercise1)\n",
    "chi_squared_ex2_rdd, merged_dict_ex2_rdd = parse_file(file_output_exercise2_rdd)\n",
    "_, merged_dict_ex2_ds = parse_file(file_output_exercise2_ds)"
   ]
  },
  {
   "cell_type": "markdown",
   "metadata": {},
   "source": [
    "## Part 1"
   ]
  },
  {
   "cell_type": "markdown",
   "metadata": {},
   "source": [
    "In this part, we want to compare the results that we obtained in Exercise 1 using the generic MapReduce approach with the results we received when implementing the chi-square calculation using RDDs.\n",
    "\n",
    "This function checks if a token from the MapReduce approach exists in the RDD and vice versa. If they both exist, their chi-square value difference is computed, and if missing, they are tracked as missing terms."
   ]
  },
  {
   "cell_type": "code",
   "execution_count": 4,
   "metadata": {},
   "outputs": [],
   "source": [
    "from collections import defaultdict\n",
    "\n",
    "def compareResults(chi_squared1, chi_squared2):\n",
    "    result = {}\n",
    "    missing_categories = defaultdict(list)\n",
    "    for category in chi_squared1:\n",
    "        result[category] = {}\n",
    "\n",
    "        for term in chi_squared1[category]:\n",
    "            result[category][term] = True\n",
    "            if term in chi_squared2[category]:\n",
    "                result[category][term] &= abs(chi_squared1[category][term] - chi_squared2[category][term]) < 0.001\n",
    "            else:\n",
    "                result[category][term] &= False\n",
    "                missing_categories[category].append(((term, chi_squared1[category][term]), 'missing in rdd'))\n",
    "\n",
    "    for category in chi_squared2:\n",
    "        for term in chi_squared2[category]:\n",
    "            if term not in chi_squared1[category]:\n",
    "                result[category][term] = False\n",
    "                missing_categories[category].append(((term, chi_squared2[category][term]), 'missing in mapreduce'))\n",
    "\n",
    "    return result, missing_categories"
   ]
  },
  {
   "cell_type": "code",
   "execution_count": 5,
   "metadata": {},
   "outputs": [],
   "source": [
    "result, missing_categories = compareResults(chi_squared_ex1, chi_squared_ex2_rdd)"
   ]
  },
  {
   "cell_type": "code",
   "execution_count": 6,
   "metadata": {},
   "outputs": [
    {
     "name": "stdout",
     "output_type": "stream",
     "text": [
      "Category: Apps_for_Android Term: devs\n",
      "Category: Apps_for_Android Term: glu\n",
      "Category: Apps_for_Android Term: teamlava\n",
      "Category: Apps_for_Android Term: zynga\n",
      "Category: Tools_and_Home_Improvement Term: bidet\n",
      "Category: Tools_and_Home_Improvement Term: kidde\n",
      "Total of different terms: 6\n"
     ]
    }
   ],
   "source": [
    "def print_results(result):\n",
    "    cnt = 0\n",
    "    for category, term_difference in result.items():\n",
    "        for term, is_different in term_difference.items():\n",
    "            if is_different == False:\n",
    "                cnt += 1\n",
    "                print(f\"Category: {category} Term: {term}\")\n",
    "\n",
    "    print(f\"Total of different terms: {cnt}\")\n",
    "\n",
    "print_results(result)"
   ]
  },
  {
   "cell_type": "code",
   "execution_count": 7,
   "metadata": {},
   "outputs": [
    {
     "data": {
      "text/plain": [
       "defaultdict(list,\n",
       "            {'Apps_for_Android': [(('devs', 86.64962060177764),\n",
       "               'missing in rdd'),\n",
       "              (('glu', 86.64962060177764), 'missing in rdd'),\n",
       "              (('teamlava', 86.64962060177764), 'missing in mapreduce'),\n",
       "              (('zynga', 86.64962060177764), 'missing in mapreduce')],\n",
       "             'Tools_and_Home_Improvement': [(('bidet', 159.72357729489363),\n",
       "               'missing in rdd'),\n",
       "              (('kidde', 159.72357729489363), 'missing in mapreduce')]})"
      ]
     },
     "execution_count": 7,
     "metadata": {},
     "output_type": "execute_result"
    }
   ],
   "source": [
    "missing_categories"
   ]
  },
  {
   "cell_type": "markdown",
   "metadata": {},
   "source": [
    "Finally, we observe that in the category 'Apps_for_Android,' two words are missing in the MapReduce dataset but have the same chi-square values, while on the other side, two words in the same category are missing in the RDD dataset. For the category 'Tools_and_Home_Improvement,' a word is missing in one dataset that the other dataset has, and vice versa. Surprisingly, both of these words have the same chi-square values but appear to be totally different."
   ]
  },
  {
   "cell_type": "markdown",
   "metadata": {},
   "source": [
    "## Part 2"
   ]
  },
  {
   "cell_type": "markdown",
   "metadata": {},
   "source": [
    "In this section, we compare the results obtained in Exercise 2, Part 1, where we selected the top 75 tokens based on their chi-squared value, with the features selected by the ChiSqSelector. We aim to determine how many tokens from the top 75k RDD dataset are included in the dataset assigned by the ChiSqSelector."
   ]
  },
  {
   "cell_type": "code",
   "execution_count": 8,
   "metadata": {},
   "outputs": [
    {
     "data": {
      "text/plain": [
       "(1464, 2000, 750)"
      ]
     },
     "execution_count": 8,
     "metadata": {},
     "output_type": "execute_result"
    }
   ],
   "source": [
    "len(merged_dict_ex2_rdd), len(merged_dict_ex2_ds), len(set(merged_dict_ex2_rdd) & set(merged_dict_ex2_ds))"
   ]
  },
  {
   "cell_type": "markdown",
   "metadata": {},
   "source": [
    "The results show that the intersection of both datasets consists of 750 words."
   ]
  },
  {
   "cell_type": "markdown",
   "metadata": {},
   "source": [
    "## Part 3"
   ]
  },
  {
   "cell_type": "markdown",
   "metadata": {},
   "source": [
    "In this section, we aim to investigate the parameters of the grid search and their F1 scores on the validation set. To accomplish this, we load a CSV file consisting of all relevant information, inspect the results in a table, and create meaningful plots that may help to understand the parameters and their behavior more effectively.\n",
    "\n",
    "\n",
    "First, import the data and convert the parameters into strings so that they are recognized as categorical variables on the x-axis."
   ]
  },
  {
   "cell_type": "code",
   "execution_count": 9,
   "metadata": {},
   "outputs": [
    {
     "name": "stderr",
     "output_type": "stream",
     "text": [
      "/Users/maxkleinegger/miniconda3/lib/python3.9/site-packages/pandas/core/arrays/masked.py:60: UserWarning: Pandas requires version '1.3.6' or newer of 'bottleneck' (version '1.3.5' currently installed).\n",
      "  from pandas.core import (\n"
     ]
    }
   ],
   "source": [
    "import pandas as pd\n",
    "import seaborn as sns\n",
    "import matplotlib.pyplot as plt\n",
    "\n",
    "df = pd.read_csv(file_grid_search_evaluation)\n",
    "df.columns = df.columns.str.strip() \n",
    "\n",
    "df[\"maxIter\"] = df[\"maxIter\"].astype(str)\n",
    "df[\"NumTopFeatures\"] = df[\"NumTopFeatures\"].astype(str)\n",
    "df[\"regParam\"] = df[\"regParam\"].astype(str)\n",
    "df[\"standardization\"] = df[\"standardization\"].astype(str)"
   ]
  },
  {
   "cell_type": "markdown",
   "metadata": {},
   "source": [
    "Inspect the parameters"
   ]
  },
  {
   "cell_type": "code",
   "execution_count": 10,
   "metadata": {},
   "outputs": [
    {
     "data": {
      "text/html": [
       "<div>\n",
       "<style scoped>\n",
       "    .dataframe tbody tr th:only-of-type {\n",
       "        vertical-align: middle;\n",
       "    }\n",
       "\n",
       "    .dataframe tbody tr th {\n",
       "        vertical-align: top;\n",
       "    }\n",
       "\n",
       "    .dataframe thead th {\n",
       "        text-align: right;\n",
       "    }\n",
       "</style>\n",
       "<table border=\"1\" class=\"dataframe\">\n",
       "  <thead>\n",
       "    <tr style=\"text-align: right;\">\n",
       "      <th></th>\n",
       "      <th>maxIter</th>\n",
       "      <th>NumTopFeatures</th>\n",
       "      <th>regParam</th>\n",
       "      <th>standardization</th>\n",
       "      <th>f1-score</th>\n",
       "    </tr>\n",
       "  </thead>\n",
       "  <tbody>\n",
       "    <tr>\n",
       "      <th>0</th>\n",
       "      <td>10</td>\n",
       "      <td>20</td>\n",
       "      <td>0.001</td>\n",
       "      <td>False</td>\n",
       "      <td>0.244530</td>\n",
       "    </tr>\n",
       "    <tr>\n",
       "      <th>1</th>\n",
       "      <td>50</td>\n",
       "      <td>20</td>\n",
       "      <td>0.001</td>\n",
       "      <td>False</td>\n",
       "      <td>0.253933</td>\n",
       "    </tr>\n",
       "    <tr>\n",
       "      <th>2</th>\n",
       "      <td>10</td>\n",
       "      <td>20</td>\n",
       "      <td>0.001</td>\n",
       "      <td>True</td>\n",
       "      <td>0.247545</td>\n",
       "    </tr>\n",
       "    <tr>\n",
       "      <th>3</th>\n",
       "      <td>50</td>\n",
       "      <td>20</td>\n",
       "      <td>0.001</td>\n",
       "      <td>True</td>\n",
       "      <td>0.239803</td>\n",
       "    </tr>\n",
       "    <tr>\n",
       "      <th>4</th>\n",
       "      <td>10</td>\n",
       "      <td>2000</td>\n",
       "      <td>0.001</td>\n",
       "      <td>False</td>\n",
       "      <td>0.399768</td>\n",
       "    </tr>\n",
       "    <tr>\n",
       "      <th>5</th>\n",
       "      <td>50</td>\n",
       "      <td>2000</td>\n",
       "      <td>0.001</td>\n",
       "      <td>False</td>\n",
       "      <td>0.451065</td>\n",
       "    </tr>\n",
       "    <tr>\n",
       "      <th>6</th>\n",
       "      <td>10</td>\n",
       "      <td>2000</td>\n",
       "      <td>0.001</td>\n",
       "      <td>True</td>\n",
       "      <td>0.430844</td>\n",
       "    </tr>\n",
       "    <tr>\n",
       "      <th>7</th>\n",
       "      <td>50</td>\n",
       "      <td>2000</td>\n",
       "      <td>0.001</td>\n",
       "      <td>True</td>\n",
       "      <td>0.422536</td>\n",
       "    </tr>\n",
       "    <tr>\n",
       "      <th>8</th>\n",
       "      <td>10</td>\n",
       "      <td>20</td>\n",
       "      <td>0.01</td>\n",
       "      <td>False</td>\n",
       "      <td>0.230873</td>\n",
       "    </tr>\n",
       "    <tr>\n",
       "      <th>9</th>\n",
       "      <td>50</td>\n",
       "      <td>20</td>\n",
       "      <td>0.01</td>\n",
       "      <td>False</td>\n",
       "      <td>0.255260</td>\n",
       "    </tr>\n",
       "    <tr>\n",
       "      <th>10</th>\n",
       "      <td>10</td>\n",
       "      <td>20</td>\n",
       "      <td>0.01</td>\n",
       "      <td>True</td>\n",
       "      <td>0.245100</td>\n",
       "    </tr>\n",
       "    <tr>\n",
       "      <th>11</th>\n",
       "      <td>50</td>\n",
       "      <td>20</td>\n",
       "      <td>0.01</td>\n",
       "      <td>True</td>\n",
       "      <td>0.230055</td>\n",
       "    </tr>\n",
       "    <tr>\n",
       "      <th>12</th>\n",
       "      <td>10</td>\n",
       "      <td>2000</td>\n",
       "      <td>0.01</td>\n",
       "      <td>False</td>\n",
       "      <td>0.198632</td>\n",
       "    </tr>\n",
       "    <tr>\n",
       "      <th>13</th>\n",
       "      <td>50</td>\n",
       "      <td>2000</td>\n",
       "      <td>0.01</td>\n",
       "      <td>False</td>\n",
       "      <td>0.413916</td>\n",
       "    </tr>\n",
       "    <tr>\n",
       "      <th>14</th>\n",
       "      <td>10</td>\n",
       "      <td>2000</td>\n",
       "      <td>0.01</td>\n",
       "      <td>True</td>\n",
       "      <td>0.422287</td>\n",
       "    </tr>\n",
       "    <tr>\n",
       "      <th>15</th>\n",
       "      <td>50</td>\n",
       "      <td>2000</td>\n",
       "      <td>0.01</td>\n",
       "      <td>True</td>\n",
       "      <td>0.426214</td>\n",
       "    </tr>\n",
       "    <tr>\n",
       "      <th>16</th>\n",
       "      <td>10</td>\n",
       "      <td>20</td>\n",
       "      <td>0.1</td>\n",
       "      <td>False</td>\n",
       "      <td>0.164528</td>\n",
       "    </tr>\n",
       "    <tr>\n",
       "      <th>17</th>\n",
       "      <td>50</td>\n",
       "      <td>20</td>\n",
       "      <td>0.1</td>\n",
       "      <td>False</td>\n",
       "      <td>0.272399</td>\n",
       "    </tr>\n",
       "    <tr>\n",
       "      <th>18</th>\n",
       "      <td>10</td>\n",
       "      <td>20</td>\n",
       "      <td>0.1</td>\n",
       "      <td>True</td>\n",
       "      <td>0.236164</td>\n",
       "    </tr>\n",
       "    <tr>\n",
       "      <th>19</th>\n",
       "      <td>50</td>\n",
       "      <td>20</td>\n",
       "      <td>0.1</td>\n",
       "      <td>True</td>\n",
       "      <td>0.189469</td>\n",
       "    </tr>\n",
       "    <tr>\n",
       "      <th>20</th>\n",
       "      <td>10</td>\n",
       "      <td>2000</td>\n",
       "      <td>0.1</td>\n",
       "      <td>False</td>\n",
       "      <td>0.121846</td>\n",
       "    </tr>\n",
       "    <tr>\n",
       "      <th>21</th>\n",
       "      <td>50</td>\n",
       "      <td>2000</td>\n",
       "      <td>0.1</td>\n",
       "      <td>False</td>\n",
       "      <td>0.415682</td>\n",
       "    </tr>\n",
       "    <tr>\n",
       "      <th>22</th>\n",
       "      <td>10</td>\n",
       "      <td>2000</td>\n",
       "      <td>0.1</td>\n",
       "      <td>True</td>\n",
       "      <td>0.435021</td>\n",
       "    </tr>\n",
       "    <tr>\n",
       "      <th>23</th>\n",
       "      <td>50</td>\n",
       "      <td>2000</td>\n",
       "      <td>0.1</td>\n",
       "      <td>True</td>\n",
       "      <td>0.435813</td>\n",
       "    </tr>\n",
       "  </tbody>\n",
       "</table>\n",
       "</div>"
      ],
      "text/plain": [
       "   maxIter NumTopFeatures regParam standardization  f1-score\n",
       "0       10             20    0.001           False  0.244530\n",
       "1       50             20    0.001           False  0.253933\n",
       "2       10             20    0.001            True  0.247545\n",
       "3       50             20    0.001            True  0.239803\n",
       "4       10           2000    0.001           False  0.399768\n",
       "5       50           2000    0.001           False  0.451065\n",
       "6       10           2000    0.001            True  0.430844\n",
       "7       50           2000    0.001            True  0.422536\n",
       "8       10             20     0.01           False  0.230873\n",
       "9       50             20     0.01           False  0.255260\n",
       "10      10             20     0.01            True  0.245100\n",
       "11      50             20     0.01            True  0.230055\n",
       "12      10           2000     0.01           False  0.198632\n",
       "13      50           2000     0.01           False  0.413916\n",
       "14      10           2000     0.01            True  0.422287\n",
       "15      50           2000     0.01            True  0.426214\n",
       "16      10             20      0.1           False  0.164528\n",
       "17      50             20      0.1           False  0.272399\n",
       "18      10             20      0.1            True  0.236164\n",
       "19      50             20      0.1            True  0.189469\n",
       "20      10           2000      0.1           False  0.121846\n",
       "21      50           2000      0.1           False  0.415682\n",
       "22      10           2000      0.1            True  0.435021\n",
       "23      50           2000      0.1            True  0.435813"
      ]
     },
     "execution_count": 10,
     "metadata": {},
     "output_type": "execute_result"
    }
   ],
   "source": [
    "df"
   ]
  },
  {
   "cell_type": "markdown",
   "metadata": {},
   "source": [
    "Build a plot to gain a more intuitive understanding of which models perform best and worst."
   ]
  },
  {
   "cell_type": "code",
   "execution_count": 11,
   "metadata": {},
   "outputs": [
    {
     "data": {
      "text/plain": [
       "[Text(0.5, 0, 'Model'), Text(0, 0.5, 'F1-Score')]"
      ]
     },
     "execution_count": 11,
     "metadata": {},
     "output_type": "execute_result"
    },
    {
     "data": {
      "image/png": "[encoded data removed]",
      "text/plain": [
       "<Figure size 640x480 with 1 Axes>"
      ]
     },
     "metadata": {},
     "output_type": "display_data"
    }
   ],
   "source": [
    "ax = sns.barplot(df, x=df.index, y=\"f1-score\", fill=\"f1-score\")\n",
    "ax.set(xlabel=\"Model\",ylabel=\"F1-Score\")"
   ]
  },
  {
   "cell_type": "markdown",
   "metadata": {},
   "source": [
    "It seems that every 4 to 5 models, the F1 scores rapidly increase. It is worth taking a closer look at those models that have an F1 score larger than 0.30."
   ]
  },
  {
   "cell_type": "code",
   "execution_count": 12,
   "metadata": {},
   "outputs": [
    {
     "data": {
      "text/html": [
       "<div>\n",
       "<style scoped>\n",
       "    .dataframe tbody tr th:only-of-type {\n",
       "        vertical-align: middle;\n",
       "    }\n",
       "\n",
       "    .dataframe tbody tr th {\n",
       "        vertical-align: top;\n",
       "    }\n",
       "\n",
       "    .dataframe thead th {\n",
       "        text-align: right;\n",
       "    }\n",
       "</style>\n",
       "<table border=\"1\" class=\"dataframe\">\n",
       "  <thead>\n",
       "    <tr style=\"text-align: right;\">\n",
       "      <th></th>\n",
       "      <th>maxIter</th>\n",
       "      <th>NumTopFeatures</th>\n",
       "      <th>regParam</th>\n",
       "      <th>standardization</th>\n",
       "      <th>f1-score</th>\n",
       "    </tr>\n",
       "  </thead>\n",
       "  <tbody>\n",
       "    <tr>\n",
       "      <th>4</th>\n",
       "      <td>10</td>\n",
       "      <td>2000</td>\n",
       "      <td>0.001</td>\n",
       "      <td>False</td>\n",
       "      <td>0.399768</td>\n",
       "    </tr>\n",
       "    <tr>\n",
       "      <th>5</th>\n",
       "      <td>50</td>\n",
       "      <td>2000</td>\n",
       "      <td>0.001</td>\n",
       "      <td>False</td>\n",
       "      <td>0.451065</td>\n",
       "    </tr>\n",
       "    <tr>\n",
       "      <th>6</th>\n",
       "      <td>10</td>\n",
       "      <td>2000</td>\n",
       "      <td>0.001</td>\n",
       "      <td>True</td>\n",
       "      <td>0.430844</td>\n",
       "    </tr>\n",
       "    <tr>\n",
       "      <th>7</th>\n",
       "      <td>50</td>\n",
       "      <td>2000</td>\n",
       "      <td>0.001</td>\n",
       "      <td>True</td>\n",
       "      <td>0.422536</td>\n",
       "    </tr>\n",
       "    <tr>\n",
       "      <th>13</th>\n",
       "      <td>50</td>\n",
       "      <td>2000</td>\n",
       "      <td>0.01</td>\n",
       "      <td>False</td>\n",
       "      <td>0.413916</td>\n",
       "    </tr>\n",
       "    <tr>\n",
       "      <th>14</th>\n",
       "      <td>10</td>\n",
       "      <td>2000</td>\n",
       "      <td>0.01</td>\n",
       "      <td>True</td>\n",
       "      <td>0.422287</td>\n",
       "    </tr>\n",
       "    <tr>\n",
       "      <th>15</th>\n",
       "      <td>50</td>\n",
       "      <td>2000</td>\n",
       "      <td>0.01</td>\n",
       "      <td>True</td>\n",
       "      <td>0.426214</td>\n",
       "    </tr>\n",
       "    <tr>\n",
       "      <th>21</th>\n",
       "      <td>50</td>\n",
       "      <td>2000</td>\n",
       "      <td>0.1</td>\n",
       "      <td>False</td>\n",
       "      <td>0.415682</td>\n",
       "    </tr>\n",
       "    <tr>\n",
       "      <th>22</th>\n",
       "      <td>10</td>\n",
       "      <td>2000</td>\n",
       "      <td>0.1</td>\n",
       "      <td>True</td>\n",
       "      <td>0.435021</td>\n",
       "    </tr>\n",
       "    <tr>\n",
       "      <th>23</th>\n",
       "      <td>50</td>\n",
       "      <td>2000</td>\n",
       "      <td>0.1</td>\n",
       "      <td>True</td>\n",
       "      <td>0.435813</td>\n",
       "    </tr>\n",
       "  </tbody>\n",
       "</table>\n",
       "</div>"
      ],
      "text/plain": [
       "   maxIter NumTopFeatures regParam standardization  f1-score\n",
       "4       10           2000    0.001           False  0.399768\n",
       "5       50           2000    0.001           False  0.451065\n",
       "6       10           2000    0.001            True  0.430844\n",
       "7       50           2000    0.001            True  0.422536\n",
       "13      50           2000     0.01           False  0.413916\n",
       "14      10           2000     0.01            True  0.422287\n",
       "15      50           2000     0.01            True  0.426214\n",
       "21      50           2000      0.1           False  0.415682\n",
       "22      10           2000      0.1            True  0.435021\n",
       "23      50           2000      0.1            True  0.435813"
      ]
     },
     "execution_count": 12,
     "metadata": {},
     "output_type": "execute_result"
    }
   ],
   "source": [
    "df[df[\"f1-score\"] > .3]"
   ]
  },
  {
   "cell_type": "markdown",
   "metadata": {},
   "source": [
    "The filtering shows that indeed, models with 2000 selected features by the chi-square selector parameter value have significantly better model performance. We want to validate this. A plot consisting of 4 subplots is created to observe the parameters against the performance metric. Hence, we apply a color mapping to see if perhaps parameters that are part of a model that performs well also have their NumTopFeatures set to 2000."
   ]
  },
  {
   "cell_type": "code",
   "execution_count": 13,
   "metadata": {},
   "outputs": [
    {
     "data": {
      "image/png": "[encoded data removed]",
      "text/plain": [
       "<Figure size 1000x800 with 4 Axes>"
      ]
     },
     "metadata": {},
     "output_type": "display_data"
    }
   ],
   "source": [
    "palette_name = \"muted\"\n",
    "columns = ['NumTopFeatures', 'maxIter', 'regParam', 'standardization']\n",
    "titles = ['NumTopFeatures vs f1-score', 'maxIter vs f1-score', 'regParam vs f1-score', 'standardization vs f1-score']\n",
    "\n",
    "\n",
    "fig, axs = plt.subplots(2, 2, figsize=(10, 8))\n",
    "\n",
    "for i, col in enumerate(columns):\n",
    "    row_index = i // 2\n",
    "    col_index = i % 2\n",
    "    \n",
    "    sns.scatterplot(data=df, x=col, y='f1-score', hue='NumTopFeatures', palette=palette_name, ax=axs[row_index, col_index])\n",
    "    \n",
    "    axs[row_index, col_index].set_title(titles[i])\n",
    "    axs[row_index, col_index].set_xlabel(col)\n",
    "    axs[row_index, col_index].set_ylabel('f1-score')\n",
    "\n",
    "plt.tight_layout()\n",
    "plt.show()\n"
   ]
  },
  {
   "cell_type": "markdown",
   "metadata": {},
   "source": [
    "Indeed, most of the models with the numTopFeatures set to 2000 achieve relatively high performance regardless of the parameter settings for regParam, standardization, and maxIter."
   ]
  }
 ],
 "metadata": {
  "kernelspec": {
   "display_name": "Python 3",
   "language": "python",
   "name": "python3"
  },
  "language_info": {
   "codemirror_mode": {
    "name": "ipython",
    "version": 3
   },
   "file_extension": ".py",
   "mimetype": "text/x-python",
   "name": "python",
   "nbconvert_exporter": "python",
   "pygments_lexer": "ipython3",
   "version": "3.9.18"
  }
 },
 "nbformat": 4,
 "nbformat_minor": 2
}
