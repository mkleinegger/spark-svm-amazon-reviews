{
 "cells": [
  {
   "cell_type": "code",
   "execution_count": 1,
   "id": "c49e0cd7-dab4-45e4-a9db-6764e78861d7",
   "metadata": {
    "tags": []
   },
   "outputs": [
    {
     "data": {
      "text/plain": [
       "Intitializing Scala interpreter ..."
      ]
     },
     "metadata": {},
     "output_type": "display_data"
    },
    {
     "data": {
      "text/plain": [
       "Spark Web UI available at http://captain01.os.hpc.tuwien.ac.at:9999/proxy/application_1715326141961_0693\n",
       "SparkContext available as 'sc' (version = 3.2.3, master = yarn, app id = application_1715326141961_0693)\n",
       "SparkSession available as 'spark'\n"
      ]
     },
     "metadata": {},
     "output_type": "display_data"
    },
    {
     "data": {
      "text/plain": [
       "import org.apache.spark.sql.DataFrame\n",
       "import org.apache.spark.sql.functions._\n",
       "import org.apache.spark.ml.feature.{StringIndexer, HashingTF, IDF, RegexTokenizer, StopWordsRemover, ChiSqSelector}\n",
       "import org.apache.spark.ml.classification.{LinearSVC, OneVsRest}\n",
       "import org.apache.spark.ml.tuning.{ParamGridBuilder, TrainValidationSplit}\n",
       "import org.apache.spark.ml.evaluation.MulticlassClassificationEvaluator\n",
       "import org.apache.spark.ml.feature.Normalizer\n",
       "import org.apache.spark.ml.Pipeline\n",
       "import org.apache.spark.ml.util.DefaultParamsWritable\n",
       "import scala.io.Source.fromFile\n"
      ]
     },
     "execution_count": 1,
     "metadata": {},
     "output_type": "execute_result"
    }
   ],
   "source": [
    "import org.apache.spark.sql.DataFrame\n",
    "import org.apache.spark.sql.functions._\n",
    "import org.apache.spark.ml.feature.{StringIndexer,HashingTF,IDF,RegexTokenizer,StopWordsRemover,ChiSqSelector}\n",
    "import org.apache.spark.ml.classification.{LinearSVC, OneVsRest}\n",
    "import org.apache.spark.ml.tuning.{ParamGridBuilder, TrainValidationSplit}\n",
    "import org.apache.spark.ml.evaluation.MulticlassClassificationEvaluator\n",
    "import org.apache.spark.ml.feature.Normalizer\n",
    "import org.apache.spark.ml.Pipeline\n",
    "import org.apache.spark.ml.util.DefaultParamsWritable\n",
    "import scala.io.Source.fromFile"
   ]
  },
  {
   "cell_type": "code",
   "execution_count": 2,
   "id": "427ab466-b9bd-4e74-a6f7-fe2d17155450",
   "metadata": {
    "tags": []
   },
   "outputs": [
    {
     "data": {
      "text/plain": [
       "import org.apache.spark.sql.SparkSession\n",
       "sc: org.apache.spark.sql.SparkSession = org.apache.spark.sql.SparkSession@39d509a3\n"
      ]
     },
     "execution_count": 2,
     "metadata": {},
     "output_type": "execute_result"
    }
   ],
   "source": [
    "import org.apache.spark.sql.SparkSession\n",
    "val sc = SparkSession.builder\n",
    ".appName(\"SVM Text Classification\")\n",
    ".getOrCreate()"
   ]
  },
  {
   "cell_type": "markdown",
   "id": "382990a6-f892-4792-a386-24c70c6ebb78",
   "metadata": {},
   "source": [
    "## Set global variables"
   ]
  },
  {
   "cell_type": "code",
   "execution_count": 3,
   "id": "3e88b7bc-c386-43d5-82fd-92c564358932",
   "metadata": {
    "tags": []
   },
   "outputs": [
    {
     "data": {
      "text/plain": [
       "path_to_stopwords: String = ../data/stopwords.txt\n",
       "k: Int = 2000\n",
       "seed: Int = 42\n",
       "split_pattern: String = [^a-zA-Z<>^|]+\n"
      ]
     },
     "execution_count": 3,
     "metadata": {},
     "output_type": "execute_result"
    }
   ],
   "source": [
    "val path_to_stopwords = \"../data/stopwords.txt\"\n",
    "\n",
    "val k = 2000\n",
    "val seed = 42\n",
    "val split_pattern = \"[^a-zA-Z<>^|]+\""
   ]
  },
  {
   "cell_type": "markdown",
   "id": "df7d61eb-0e70-4c15-9bf8-370db292b1e5",
   "metadata": {},
   "source": [
    "## Load amazon reviews"
   ]
  },
  {
   "cell_type": "code",
   "execution_count": 4,
   "id": "1d6438b1-f4ea-4989-8a0b-884238d8fa19",
   "metadata": {
    "tags": []
   },
   "outputs": [
    {
     "name": "stdout",
     "output_type": "stream",
     "text": [
      "root\n",
      " |-- category: string (nullable = true)\n",
      " |-- reviewText: string (nullable = true)\n",
      "\n"
     ]
    },
    {
     "data": {
      "text/plain": [
       "reviewsDF: org.apache.spark.sql.DataFrame = [category: string, reviewText: string]\n",
       "stopwords: Array[String] = Array(a, aa, able, about, above, absorbs, accord, according, accordingly, across, actually, after, afterwards, again, against, ain, album, album, all, allow, allows, almost, alone, along, already, also, although, always, am, among, amongst, an, and, another, any, anybody, anyhow, anyone, anything, anyway, anyways, anywhere, apart, app, appear, appreciate, appropriate, are, aren, around, as, aside, ask, asking, associated, at, available, away, awfully, b, baby, bb, be, became, because, become, becomes, becoming, been, before, beforehand, behind, being, believe, below, beside, besides, best, better, between, beyond, bibs, bike, book, books, both, brief, bulbs, but, by, c, came, ca...\n"
      ]
     },
     "execution_count": 4,
     "metadata": {},
     "output_type": "execute_result"
    }
   ],
   "source": [
    "val reviewsDF = sc\n",
    ".read.json(\"hdfs:///user/dic24_shared/amazon-reviews/full/reviews_devset.json\")\n",
    ".select(\"category\",\"reviewText\")\n",
    "\n",
    "val stopwords = fromFile(path_to_stopwords).getLines.toArray\n",
    "\n",
    "reviewsDF.printSchema()"
   ]
  },
  {
   "cell_type": "markdown",
   "id": "465ef492-2f58-4c4f-bed3-be5a126d854a",
   "metadata": {},
   "source": [
    "## Define preprocessing and feauture extraction pipeline"
   ]
  },
  {
   "cell_type": "code",
   "execution_count": 5,
   "id": "1e5045a2-6da9-46e3-a9a5-302a3b28f132",
   "metadata": {
    "tags": []
   },
   "outputs": [
    {
     "data": {
      "text/plain": [
       "tokenizer: org.apache.spark.ml.feature.RegexTokenizer = RegexTokenizer: uid=regexTok_82e30c3305c5, minTokenLength=1, gaps=true, pattern=[^a-zA-Z<>^|]+, toLowercase=true\n",
       "stopWordsFile: String = ../data/stopwords.txt\n",
       "remover: org.apache.spark.ml.feature.StopWordsRemover = StopWordsRemover: uid=stopWords_8d3e98c2a84e, numStopWords=596, locale=en_US, caseSensitive=false\n",
       "hashingTF: org.apache.spark.ml.feature.HashingTF = HashingTF: uid=hashingTF_5669e8004f5d, binary=false, numFeatures=262144\n",
       "idf: org.apache.spark.ml.feature.IDF = idf_5e45bbf6954c\n",
       "indexer: org.apache.spark.ml.feature.StringIndexer = strIdx_c4f2e88e1de8\n",
       "selector: org.apache.spark.ml.feature.ChiSqSelector = chiSqSelector_a16c1ca0d1a0\n",
       "pipeline_feature_extraction: org.apache.spark.ml.Pipeline = pipeline_ab21c01c37de\n"
      ]
     },
     "execution_count": 5,
     "metadata": {},
     "output_type": "execute_result"
    }
   ],
   "source": [
    "// tokenize\n",
    "val tokenizer = new RegexTokenizer()\n",
    ".setInputCol(\"reviewText\")\n",
    ".setOutputCol(\"words\")\n",
    ".setPattern(split_pattern)\n",
    "\n",
    "// remove stopwords\n",
    "val stopWordsFile = path_to_stopwords\n",
    "val remover = new StopWordsRemover()\n",
    ".setInputCol(tokenizer.getOutputCol)\n",
    ".setOutputCol(\"filtered\")\n",
    ".setStopWords(stopwords)\n",
    "\n",
    "// turn words into numerical features\n",
    "val hashingTF = new HashingTF()\n",
    ".setInputCol(remover.getOutputCol)\n",
    ".setOutputCol(\"rawFeatures\")\n",
    "\n",
    "// scale feature\n",
    "val idf = new IDF()\n",
    ".setInputCol(hashingTF.getOutputCol)\n",
    ".setOutputCol(\"features\")\n",
    "\n",
    "// encode category to numerical label\n",
    "val indexer = new StringIndexer()\n",
    ".setInputCol(\"category\")\n",
    ".setOutputCol(\"label\")\n",
    "\n",
    "// ChiSqSelector\n",
    "val selector = new ChiSqSelector()\n",
    ".setNumTopFeatures(k)\n",
    ".setFeaturesCol(idf.getOutputCol)\n",
    ".setLabelCol(indexer.getOutputCol)\n",
    ".setOutputCol(\"selected_features\")\n",
    "\n",
    "val pipeline_feature_extraction = new Pipeline().setStages(Array(tokenizer, remover, hashingTF, idf, indexer, selector))"
   ]
  },
  {
   "cell_type": "markdown",
   "id": "a5338b7f-6e58-4308-9dce-f585545ac0de",
   "metadata": {},
   "source": [
    "## Train/Test Split"
   ]
  },
  {
   "cell_type": "code",
   "execution_count": 6,
   "id": "8302918b-b049-46ab-a4af-b83a5dffe87e",
   "metadata": {
    "tags": []
   },
   "outputs": [
    {
     "data": {
      "text/plain": [
       "train: org.apache.spark.sql.Dataset[org.apache.spark.sql.Row] = [category: string, reviewText: string]\n",
       "test: org.apache.spark.sql.Dataset[org.apache.spark.sql.Row] = [category: string, reviewText: string]\n"
      ]
     },
     "execution_count": 6,
     "metadata": {},
     "output_type": "execute_result"
    }
   ],
   "source": [
    "val Array(train, test) = reviewsDF\n",
    ".sample(withReplacement = false, fraction = 0.5, seed = seed)\n",
    ".randomSplit(Array(0.8,0.2), seed=seed)"
   ]
  },
  {
   "cell_type": "code",
   "execution_count": 69,
   "id": "061fe731-14e9-4335-86ea-2044366ce4d9",
   "metadata": {
    "tags": []
   },
   "outputs": [
    {
     "name": "stdout",
     "output_type": "stream",
     "text": [
      "+----------------+--------------------+\n",
      "|        category|          reviewText|\n",
      "+----------------+--------------------+\n",
      "|Apps_for_Android|6 inches on a rea...|\n",
      "|Apps_for_Android|A fun and very ad...|\n",
      "|Apps_for_Android|Amazing very addi...|\n",
      "|Apps_for_Android|An enjoyable puzz...|\n",
      "|Apps_for_Android|App has links to ...|\n",
      "+----------------+--------------------+\n",
      "only showing top 5 rows\n",
      "\n"
     ]
    }
   ],
   "source": [
    "train.show(5)"
   ]
  },
  {
   "cell_type": "markdown",
   "id": "f4c41854-cb03-48d3-a0d2-d6403a5ae4dc",
   "metadata": {},
   "source": [
    "## Define pipeline for training process"
   ]
  },
  {
   "cell_type": "code",
   "execution_count": 7,
   "id": "75f6ec56-ef5e-42a6-b35b-973063216649",
   "metadata": {
    "tags": []
   },
   "outputs": [
    {
     "data": {
      "text/plain": [
       "normalizer: org.apache.spark.ml.feature.Normalizer = Normalizer: uid=normalizer_6054856c51ee, p=2.0\n",
       "svm: org.apache.spark.ml.classification.LinearSVC = linearsvc_6f76aba611fb\n",
       "ovr_svm: org.apache.spark.ml.classification.OneVsRest = oneVsRest_f2a545e40ec8\n",
       "pipeline_train_model: org.apache.spark.ml.Pipeline = pipeline_21d6d0411531\n"
      ]
     },
     "execution_count": 7,
     "metadata": {},
     "output_type": "execute_result"
    }
   ],
   "source": [
    "val normalizer = new Normalizer()\n",
    "  .setInputCol(selector.getOutputCol)\n",
    "  .setOutputCol(\"normalized_features\")\n",
    "  .setP(2.0) // L2 normalization\n",
    "\n",
    "val svm = new LinearSVC()\n",
    ".setFeaturesCol(normalizer.getOutputCol)\n",
    ".setLabelCol(indexer.getOutputCol)\n",
    "\n",
    "val ovr_svm = new OneVsRest()\n",
    ".setClassifier(svm)\n",
    ".setFeaturesCol(normalizer.getOutputCol)\n",
    ".setLabelCol(indexer.getOutputCol)\n",
    "\n",
    "val pipeline_train_model = new Pipeline()\n",
    ".setStages(Array(pipeline_feature_extraction, normalizer, ovr_svm))"
   ]
  },
  {
   "cell_type": "markdown",
   "id": "8153213a-b17b-4a10-8821-80dd8724e134",
   "metadata": {},
   "source": [
    "# Grid Search"
   ]
  },
  {
   "cell_type": "code",
   "execution_count": 8,
   "id": "da46e832-a270-42a7-a621-23f2146ad1ea",
   "metadata": {
    "tags": []
   },
   "outputs": [
    {
     "data": {
      "text/plain": [
       "evaluator_f1: org.apache.spark.ml.evaluation.MulticlassClassificationEvaluator = MulticlassClassificationEvaluator: uid=mcEval_c53696f678e7, metricName=f1, metricLabel=0.0, beta=1.0, eps=1.0E-15\n",
       "paramGrid: Array[org.apache.spark.ml.param.ParamMap] =\n",
       "Array({\n",
       "\tlinearsvc_6f76aba611fb-maxIter: 8,\n",
       "\tchiSqSelector_a16c1ca0d1a0-numTopFeatures: 377,\n",
       "\tlinearsvc_6f76aba611fb-regParam: 0.05,\n",
       "\tlinearsvc_6f76aba611fb-standardization: false\n",
       "}, {\n",
       "\tlinearsvc_6f76aba611fb-maxIter: 8,\n",
       "\tchiSqSelector_a16c1ca0d1a0-numTopFeatures: 2000,\n",
       "\tlinearsvc_6f76aba611fb-regParam: 0.05,\n",
       "\tlinearsvc_6f76aba611fb-standardization: false\n",
       "}, {\n",
       "\tlinearsvc_6f76aba611fb-maxIter: 8,\n",
       "\tchiSqSelector_a16c1ca0d1a0-numTopFeatures: 377,\n",
       "\tlinearsvc_6f76aba611fb-regParam: 0.13,\n",
       "\tlinearsvc_6f76aba611fb-standardization: false\n",
       "}, {\n",
       "\tlinear...\n"
      ]
     },
     "execution_count": 8,
     "metadata": {},
     "output_type": "execute_result"
    }
   ],
   "source": [
    "val evaluator_f1 = new MulticlassClassificationEvaluator()\n",
    ".setMetricName(\"f1\")\n",
    "\n",
    "val paramGrid = new ParamGridBuilder()\n",
    ".addGrid(svm.maxIter, Array(8,34))\n",
    ".addGrid(svm.regParam, Array(0.05, 0.13, 0.55))\n",
    ".addGrid(selector.numTopFeatures, Array(377, 2000))\n",
    ".addGrid(svm.standardization, Array(false, true))\n",
    ".build()\n",
    "\n",
    "val trainValidationSplit = new TrainValidationSplit()\n",
    ".setEstimator(pipeline_train_model)\n",
    ".setEvaluator(evaluator_f1)\n",
    ".setEstimatorParamMaps(paramGrid)\n",
    ".setSeed(seed)"
   ]
  },
  {
   "cell_type": "code",
   "execution_count": 9,
   "id": "c2f207a7-6acf-4ee9-b21c-db7b5f5f3e9a",
   "metadata": {
    "tags": []
   },
   "outputs": [
    {
     "name": "stdout",
     "output_type": "stream",
     "text": [
      "Time: 3477.2955679893494 seconds.\n",
      "\n"
     ]
    },
    {
     "data": {
      "text/plain": [
       "grid_search_model: org.apache.spark.ml.tuning.TrainValidationSplitModel = TrainValidationSplitModel: uid=tvs_6aa092eea10a, bestModel=pipeline_21d6d0411531, trainRatio=0.75\n"
      ]
     },
     "execution_count": 9,
     "metadata": {},
     "output_type": "execute_result"
    }
   ],
   "source": [
    "%%time\n",
    "val grid_search_model = trainValidationSplit.fit(train)"
   ]
  },
  {
   "cell_type": "code",
   "execution_count": 10,
   "id": "4ef8cc41-2dc3-4289-a537-e315442fdafc",
   "metadata": {
    "tags": []
   },
   "outputs": [
    {
     "data": {
      "text/plain": [
       "grid_search_predicton: org.apache.spark.sql.DataFrame = [category: string, reviewText: string ... 9 more fields]\n",
       "evaluator: org.apache.spark.ml.evaluation.MulticlassClassificationEvaluator = MulticlassClassificationEvaluator: uid=mcEval_9ca726e2353e, metricName=f1, metricLabel=0.0, beta=1.0, eps=1.0E-15\n",
       "f1_score_grid_search_model: Double = 0.5782124644392186\n"
      ]
     },
     "execution_count": 10,
     "metadata": {},
     "output_type": "execute_result"
    }
   ],
   "source": [
    "// predict\n",
    "val grid_search_predicton = grid_search_model.transform(test)\n",
    "\n",
    "// calculate f1 score \n",
    "val evaluator = new MulticlassClassificationEvaluator()\n",
    ".setMetricName(\"f1\")\n",
    "val f1_score_grid_search_model = evaluator.evaluate(grid_search_predicton)"
   ]
  },
  {
   "cell_type": "code",
   "execution_count": 32,
   "id": "f2bd0cd4-c716-4d98-a65e-5f0287d7c22c",
   "metadata": {
    "tags": []
   },
   "outputs": [
    {
     "data": {
      "text/plain": [
       "res24: org.apache.spark.ml.Model[_] = pipeline_21d6d0411531\n"
      ]
     },
     "execution_count": 34,
     "metadata": {},
     "output_type": "execute_result"
    }
   ],
   "source": [
    "// Extract the best model\n",
    "// 21d6d0411531\n",
    "grid_search_model.bestModel.params"
   ]
  },
  {
   "cell_type": "code",
   "execution_count": 45,
   "id": "05a4e4b3-178a-44a5-b304-e61624e4d534",
   "metadata": {
    "tags": []
   },
   "outputs": [
    {
     "ename": "<console>",
     "evalue": "44: error: value foreach is not a member of org.apache.spark.ml.param.Param[Array[org.apache.spark.ml.PipelineStage]]",
     "output_type": "error",
     "traceback": [
      "<console>:44: error: value foreach is not a member of org.apache.spark.ml.param.Param[Array[org.apache.spark.ml.PipelineStage]]",
      "       stages.foreach { stage =>",
      "              ^",
      ""
     ]
    }
   ],
   "source": [
    "val bestModel = grid_search_model.bestModel.asInstanceOf[Pipeline]\n",
    "\n",
    "// Iterate through each stage in the pipeline and extract parameters\n",
    "val stages = bestModel.stages\n",
    "stages.foreach { stage =>\n",
    "  println(s\"Stage: ${stage.uid}\")\n",
    "  println(stage.asInstanceOf[Pipeline].explainParams())\n",
    "}"
   ]
  },
  {
   "cell_type": "markdown",
   "id": "4d9fe355-95a3-4418-ad9a-298723289584",
   "metadata": {},
   "source": [
    "### SVM with default parameters"
   ]
  },
  {
   "cell_type": "code",
   "execution_count": null,
   "id": "b041a412-723d-426a-9b1e-99dee24a76eb",
   "metadata": {
    "tags": []
   },
   "outputs": [],
   "source": [
    "// train the model \n",
    "val svm_model = pipeline_train_model.fit(train)"
   ]
  },
  {
   "cell_type": "code",
   "execution_count": 124,
   "id": "ed4f702f-3b4b-4486-8642-17defe20562c",
   "metadata": {
    "tags": []
   },
   "outputs": [
    {
     "data": {
      "text/plain": [
       "predictions: org.apache.spark.sql.DataFrame = [category: string, reviewText: string ... 9 more fields]\n"
      ]
     },
     "execution_count": 124,
     "metadata": {},
     "output_type": "execute_result"
    }
   ],
   "source": [
    "// predict on test data\n",
    "val predictions = svm_model.transform(test)"
   ]
  },
  {
   "cell_type": "code",
   "execution_count": 67,
   "id": "4f7d8bbe-75d2-4e82-ab75-a10cdcdda00e",
   "metadata": {
    "tags": []
   },
   "outputs": [
    {
     "name": "stdout",
     "output_type": "stream",
     "text": [
      "+----------------+-----+----------+\n",
      "|        category|label|prediction|\n",
      "+----------------+-----+----------+\n",
      "|Apps_for_Android|  8.0|       9.0|\n",
      "|Apps_for_Android|  8.0|       3.0|\n",
      "|Apps_for_Android|  8.0|       8.0|\n",
      "|Apps_for_Android|  8.0|       0.0|\n",
      "|Apps_for_Android|  8.0|      12.0|\n",
      "|Apps_for_Android|  8.0|       0.0|\n",
      "|Apps_for_Android|  8.0|       0.0|\n",
      "|Apps_for_Android|  8.0|       6.0|\n",
      "|Apps_for_Android|  8.0|       0.0|\n",
      "|Apps_for_Android|  8.0|       8.0|\n",
      "|Apps_for_Android|  8.0|       3.0|\n",
      "|Apps_for_Android|  8.0|       3.0|\n",
      "|Apps_for_Android|  8.0|       0.0|\n",
      "|Apps_for_Android|  8.0|       8.0|\n",
      "|Apps_for_Android|  8.0|      20.0|\n",
      "|Apps_for_Android|  8.0|       0.0|\n",
      "|Apps_for_Android|  8.0|      20.0|\n",
      "|Apps_for_Android|  8.0|       0.0|\n",
      "|Apps_for_Android|  8.0|       0.0|\n",
      "|Apps_for_Android|  8.0|       8.0|\n",
      "+----------------+-----+----------+\n",
      "only showing top 20 rows\n",
      "\n"
     ]
    }
   ],
   "source": [
    "predictions.select(\"category\",\"label\",\"prediction\").show()"
   ]
  },
  {
   "cell_type": "code",
   "execution_count": 126,
   "id": "5d459392-a963-4b25-8749-a00ccf6d4b63",
   "metadata": {
    "tags": []
   },
   "outputs": [
    {
     "data": {
      "text/plain": [
       "f1_score_default_model: Double = 0.35558985563198786\n"
      ]
     },
     "execution_count": 126,
     "metadata": {},
     "output_type": "execute_result"
    }
   ],
   "source": [
    "val f1_score_default_model = evaluator.evaluate(predictions)"
   ]
  },
  {
   "cell_type": "markdown",
   "id": "3918bc19-aecc-48b0-a15f-8519d02b98a9",
   "metadata": {},
   "source": [
    "check best param map\n",
    "check vector counter instead of hashing tf\n",
    "sample size"
   ]
  }
 ],
 "metadata": {
  "kernelspec": {
   "display_name": "spylon-kernel",
   "language": "scala",
   "name": "spylon-kernel"
  },
  "language_info": {
   "codemirror_mode": "text/x-scala",
   "file_extension": ".scala",
   "help_links": [
    {
     "text": "MetaKernel Magics",
     "url": "https://metakernel.readthedocs.io/en/latest/source/README.html"
    }
   ],
   "mimetype": "text/x-scala",
   "name": "scala",
   "pygments_lexer": "scala",
   "version": "0.4.1"
  }
 },
 "nbformat": 4,
 "nbformat_minor": 5
}
