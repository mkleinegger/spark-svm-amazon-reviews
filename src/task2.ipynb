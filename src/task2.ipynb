{
 "cells": [
  {
   "cell_type": "code",
   "execution_count": 69,
   "id": "586e2009-5557-45e4-88e2-2c96dfdd73af",
   "metadata": {
    "tags": []
   },
   "outputs": [
    {
     "name": "stdout",
     "output_type": "stream",
     "text": [
      "root\n",
      " |-- category: string (nullable = true)\n",
      " |-- reviewText: string (nullable = false)\n",
      "\n"
     ]
    },
    {
     "data": {
      "text/plain": [
       "reviewsDF: org.apache.spark.sql.DataFrame = [category: string, reviewText: string]\n"
      ]
     },
     "execution_count": 69,
     "metadata": {},
     "output_type": "execute_result"
    }
   ],
   "source": [
    "val reviewsDF = spark.read.options(Map(\"header\"->\"true\"))\n",
    ".format(\"json\")\n",
    ".load(\"hdfs:///user/dic24_shared/amazon-reviews/full/reviews_devset.json\")\n",
    ".select(\"category\",\"reviewText\")\n",
    ".groupBy(\"category\")\n",
    ".agg(concat_ws(\" \", collect_list(\"reviewText\")).alias(\"reviewText\"))\n",
    "\n",
    "\n",
    "reviewsDF.printSchema()"
   ]
  },
  {
   "cell_type": "code",
   "execution_count": 68,
   "id": "e37d92ff-4ad8-4e7d-a65b-c41ea2b9bc1b",
   "metadata": {
    "tags": []
   },
   "outputs": [
    {
     "data": {
      "text/plain": [
       "path_to_stopwords: String = ./data/stopwords.txt\n",
       "k: Int = 2000\n",
       "split_pattern: String = [^a-zA-Z<>^|]+\n"
      ]
     },
     "execution_count": 68,
     "metadata": {},
     "output_type": "execute_result"
    }
   ],
   "source": [
    "val path_to_stopwords = \"../data/stopwords.txt\"\n",
    "val k = 2000\n",
    "val split_pattern = \"[^a-zA-Z<>^|]+\""
   ]
  },
  {
   "cell_type": "code",
   "execution_count": 46,
   "id": "9bd390d5-e31b-45db-87e8-a456e5a24d91",
   "metadata": {
    "tags": []
   },
   "outputs": [
    {
     "name": "stdout",
     "output_type": "stream",
     "text": [
      "+--------------------+--------------------+--------------------+\n",
      "|            category|          reviewText|               words|\n",
      "+--------------------+--------------------+--------------------+\n",
      "|Health_and_Person...|The viewing area ...|[the, viewing, ar...|\n",
      "|        Kindle_Store|This book has two...|[this, book, has,...|\n",
      "|                Baby|I love it. I'm no...|[love, it, not, t...|\n",
      "|       Movies_and_TV|Blu-ray disc is d...|[blu, ray, disc, ...|\n",
      "|Clothing_Shoes_an...|Absolutely beauti...|[absolutely, beau...|\n",
      "|                Book|Kahlil Gibran wri...|[kahlil, gibran, ...|\n",
      "|          Automotive|Bought this cable...|[bought, this, ca...|\n",
      "|  Sports_and_Outdoor|my husband reques...|[my, husband, req...|\n",
      "|    Apps_for_Android|I spend too much ...|[spend, too, much...|\n",
      "|Tools_and_Home_Im...|Two things are go...|[two, things, are...|\n",
      "|Cell_Phones_and_A...|Bought this produ...|[bought, this, pr...|\n",
      "|       CDs_and_Vinyl|I'm not at all a ...|[not, at, all, he...|\n",
      "|          Electronic|The power cable c...|[the, power, cabl...|\n",
      "|         Pet_Supplie|and has quit a lo...|[and, has, quit, ...|\n",
      "|Grocery_and_Gourm...|These are sooohar...|[these, are, sooo...|\n",
      "|     Home_and_Kitche|Thank you for thi...|[thank, you, for,...|\n",
      "|       Toys_and_Game|learning with  th...|[learning, with, ...|\n",
      "|       Digital_Music|To that one revie...|[to, that, one, r...|\n",
      "|  Musical_Instrument|I LOVE this versi...|[love, this, vers...|\n",
      "|Patio_Lawn_and_Garde|This was a gift f...|[this, was, gift,...|\n",
      "+--------------------+--------------------+--------------------+\n",
      "only showing top 20 rows\n",
      "\n"
     ]
    },
    {
     "data": {
      "text/plain": [
       "defined class CustomTokenizer\n",
       "tokenizer: org.apache.spark.ml.feature.Tokenizer = tok_2bfc9c743f2c\n",
       "tokenized: org.apache.spark.sql.DataFrame = [category: string, reviewText: string ... 1 more field]\n"
      ]
     },
     "execution_count": 46,
     "metadata": {},
     "output_type": "execute_result"
    }
   ],
   "source": [
    "class CustomTokenizer extends Tokenizer with DefaultParamsWritable {\n",
    "  // use splitting pattern from exercise 1\n",
    "  override protected def createTransformFunc: String => Seq[String] = { input =>\n",
    "    input.toLowerCase.split(split_pattern).toSeq.filter(_.length > 1)\n",
    "  }\n",
    "}\n",
    "\n",
    "val tokenizer = new CustomTokenizer()\n",
    ".setInputCol(\"reviewText\")\n",
    ".setOutputCol(\"words\")\n",
    "val tokenized = tokenizer.transform(reviewsDF).select(\"category\",\"words\")\n",
    "tokenized.show()"
   ]
  },
  {
   "cell_type": "code",
   "execution_count": 49,
   "id": "f1f69bca-0e96-4f98-91ce-420e7beab846",
   "metadata": {
    "tags": []
   },
   "outputs": [
    {
     "name": "stdout",
     "output_type": "stream",
     "text": [
      "+--------------------+--------------------+\n",
      "|            category|            filtered|\n",
      "+--------------------+--------------------+\n",
      "|Health_and_Person...|[viewing, area, s...|\n",
      "|        Kindle_Store|[separate, lines,...|\n",
      "|                Baby|[love, journaling...|\n",
      "|       Movies_and_TV|[blu, ray, disc, ...|\n",
      "|Clothing_Shoes_an...|[absolutely, beau...|\n",
      "|                Book|[kahlil, gibran, ...|\n",
      "|          Automotive|[bought, cable, r...|\n",
      "|  Sports_and_Outdoor|[husband, request...|\n",
      "|    Apps_for_Android|[spend, time, spe...|\n",
      "|Tools_and_Home_Im...|[things, good, li...|\n",
      "|Cell_Phones_and_A...|[bought, arrival,...|\n",
      "|       CDs_and_Vinyl|[helen, forrest, ...|\n",
      "|          Electronic|[power, cable, wo...|\n",
      "|         Pet_Supplie|[quit, lot, plaqu...|\n",
      "|Grocery_and_Gourm...|[sooohard, find, ...|\n",
      "|     Home_and_Kitche|[helpful, dvd, gr...|\n",
      "|       Toys_and_Game|[learning, bittin...|\n",
      "|       Digital_Music|[reviewer, cares,...|\n",
      "|  Musical_Instrument|[love, version, w...|\n",
      "|Patio_Lawn_and_Garde|[gift, husband, m...|\n",
      "+--------------------+--------------------+\n",
      "only showing top 20 rows\n",
      "\n"
     ]
    },
    {
     "data": {
      "text/plain": [
       "defined class CustomStopWordsRemover\n",
       "stopWordsFile: String = stopwords.txt\n",
       "remover: CustomStopWordsRemover = StopWordsRemover: uid=stopWords_b62340107760, numStopWords=596, locale=en_US, caseSensitive=false\n",
       "filtered: org.apache.spark.sql.DataFrame = [category: string, filtered: array<string>]\n"
      ]
     },
     "execution_count": 49,
     "metadata": {},
     "output_type": "execute_result"
    }
   ],
   "source": [
    "class CustomStopWordsRemover(stopWordsFile: String) extends StopWordsRemover {\n",
    "    // load and set custom stop words\n",
    "    val customStopWords: Array[String] = scala.io.Source.fromFile(stopWordsFile).getLines.toArray\n",
    "    setStopWords(customStopWords)    \n",
    "}\n",
    "\n",
    "val stopWordsFile = path_to_stopwords\n",
    "val remover = new CustomStopWordsRemover(stopWordsFile)\n",
    ".setInputCol(tokenizer.getOutputCol)\n",
    ".setOutputCol(\"filtered\")\n",
    "val filtered = remover.transform(tokenized).select(\"category\", \"filtered\")\n",
    "filtered.show()"
   ]
  },
  {
   "cell_type": "code",
   "execution_count": 52,
   "id": "87231e24-72c3-4b50-a217-5aae04b5e6fd",
   "metadata": {
    "tags": []
   },
   "outputs": [
    {
     "name": "stdout",
     "output_type": "stream",
     "text": [
      "+--------------------+--------------------+\n",
      "|            category|         rawFeatures|\n",
      "+--------------------+--------------------+\n",
      "|Health_and_Person...|(262144,[7,55,71,...|\n",
      "|        Kindle_Store|(262144,[150,169,...|\n",
      "|                Baby|(262144,[329,343,...|\n",
      "|       Movies_and_TV|(262144,[2,6,19,4...|\n",
      "|Clothing_Shoes_an...|(262144,[149,150,...|\n",
      "|                Book|(262144,[2,5,6,13...|\n",
      "|          Automotive|(262144,[329,343,...|\n",
      "|  Sports_and_Outdoor|(262144,[42,55,13...|\n",
      "|    Apps_for_Android|(262144,[300,329,...|\n",
      "|Tools_and_Home_Im...|(262144,[7,55,116...|\n",
      "|Cell_Phones_and_A...|(262144,[107,150,...|\n",
      "|       CDs_and_Vinyl|(262144,[2,5,6,19...|\n",
      "|          Electronic|(262144,[7,13,20,...|\n",
      "|         Pet_Supplie|(262144,[7,83,329...|\n",
      "|Grocery_and_Gourm...|(262144,[7,329,34...|\n",
      "|     Home_and_Kitche|(262144,[7,55,181...|\n",
      "|       Toys_and_Game|(262144,[7,150,19...|\n",
      "|       Digital_Music|(262144,[19,50,15...|\n",
      "|  Musical_Instrument|(262144,[5,150,21...|\n",
      "|Patio_Lawn_and_Garde|(262144,[6,55,298...|\n",
      "+--------------------+--------------------+\n",
      "only showing top 20 rows\n",
      "\n"
     ]
    },
    {
     "data": {
      "text/plain": [
       "hashingTF: org.apache.spark.ml.feature.HashingTF = HashingTF: uid=hashingTF_d82fe258cea1, binary=false, numFeatures=262144\n",
       "featurizedData: org.apache.spark.sql.DataFrame = [category: string, rawFeatures: vector]\n"
      ]
     },
     "execution_count": 52,
     "metadata": {},
     "output_type": "execute_result"
    }
   ],
   "source": [
    "// turn words into numerical features\n",
    "val hashingTF = new HashingTF()\n",
    ".setInputCol(remover.getOutputCol)\n",
    ".setOutputCol(\"rawFeatures\")\n",
    "val featurizedData = hashingTF.transform(filtered).select(\"category\", \"rawFeatures\")\n",
    "featurizedData.show()"
   ]
  },
  {
   "cell_type": "code",
   "execution_count": 53,
   "id": "2b8bf323-c50e-4fa7-b9dd-2eda941e2fd9",
   "metadata": {
    "tags": []
   },
   "outputs": [
    {
     "name": "stdout",
     "output_type": "stream",
     "text": [
      "+--------------------+--------------------+\n",
      "|            category|            features|\n",
      "+--------------------+--------------------+\n",
      "|Health_and_Person...|(262144,[7,55,71,...|\n",
      "|        Kindle_Store|(262144,[150,169,...|\n",
      "|                Baby|(262144,[329,343,...|\n",
      "|       Movies_and_TV|(262144,[2,6,19,4...|\n",
      "|Clothing_Shoes_an...|(262144,[149,150,...|\n",
      "|                Book|(262144,[2,5,6,13...|\n",
      "|          Automotive|(262144,[329,343,...|\n",
      "|  Sports_and_Outdoor|(262144,[42,55,13...|\n",
      "|    Apps_for_Android|(262144,[300,329,...|\n",
      "|Tools_and_Home_Im...|(262144,[7,55,116...|\n",
      "|Cell_Phones_and_A...|(262144,[107,150,...|\n",
      "|       CDs_and_Vinyl|(262144,[2,5,6,19...|\n",
      "|          Electronic|(262144,[7,13,20,...|\n",
      "|         Pet_Supplie|(262144,[7,83,329...|\n",
      "|Grocery_and_Gourm...|(262144,[7,329,34...|\n",
      "|     Home_and_Kitche|(262144,[7,55,181...|\n",
      "|       Toys_and_Game|(262144,[7,150,19...|\n",
      "|       Digital_Music|(262144,[19,50,15...|\n",
      "|  Musical_Instrument|(262144,[5,150,21...|\n",
      "|Patio_Lawn_and_Garde|(262144,[6,55,298...|\n",
      "+--------------------+--------------------+\n",
      "only showing top 20 rows\n",
      "\n"
     ]
    },
    {
     "data": {
      "text/plain": [
       "idf: org.apache.spark.ml.feature.IDF = idf_8f4fddaa2939\n",
       "idfModel: org.apache.spark.ml.feature.IDFModel = IDFModel: uid=idf_8f4fddaa2939, numDocs=22, numFeatures=262144\n",
       "rescaledData: org.apache.spark.sql.DataFrame = [category: string, features: vector]\n"
      ]
     },
     "execution_count": 53,
     "metadata": {},
     "output_type": "execute_result"
    }
   ],
   "source": [
    "// scale feature\n",
    "val idf = new IDF()\n",
    ".setInputCol(hashingTF.getOutputCol)\n",
    ".setOutputCol(\"features\")\n",
    "val idfModel = idf.fit(featurizedData)\n",
    "val rescaledData = idfModel.transform(featurizedData).select(\"category\", \"features\")\n",
    "rescaledData.show()\n"
   ]
  },
  {
   "cell_type": "code",
   "execution_count": 54,
   "id": "af32fe9d-d270-42c5-9a48-8d460aba99a1",
   "metadata": {
    "tags": []
   },
   "outputs": [
    {
     "name": "stdout",
     "output_type": "stream",
     "text": [
      "+--------------------+--------------------+-----+\n",
      "|            category|            features|label|\n",
      "+--------------------+--------------------+-----+\n",
      "|Health_and_Person...|(262144,[7,55,71,...| 11.0|\n",
      "|        Kindle_Store|(262144,[150,169,...| 13.0|\n",
      "|                Baby|(262144,[329,343,...|  2.0|\n",
      "|       Movies_and_TV|(262144,[2,6,19,4...| 14.0|\n",
      "|Clothing_Shoes_an...|(262144,[149,150,...|  7.0|\n",
      "|Tools_and_Home_Im...|(262144,[7,55,116...| 20.0|\n",
      "|Cell_Phones_and_A...|(262144,[107,150,...|  6.0|\n",
      "|                Book|(262144,[2,5,6,13...|  4.0|\n",
      "|          Automotive|(262144,[329,343,...|  1.0|\n",
      "|  Sports_and_Outdoor|(262144,[42,55,13...| 19.0|\n",
      "|    Apps_for_Android|(262144,[300,329,...|  0.0|\n",
      "|       CDs_and_Vinyl|(262144,[2,5,6,19...|  5.0|\n",
      "|       Toys_and_Game|(262144,[7,150,19...| 21.0|\n",
      "|       Digital_Music|(262144,[19,50,15...|  8.0|\n",
      "|  Musical_Instrument|(262144,[5,150,21...| 15.0|\n",
      "|Patio_Lawn_and_Garde|(262144,[6,55,298...| 17.0|\n",
      "|              Beauty|(262144,[7,128,36...|  3.0|\n",
      "|      Office_Product|(262144,[216,298,...| 16.0|\n",
      "|          Electronic|(262144,[7,13,20,...|  9.0|\n",
      "|         Pet_Supplie|(262144,[7,83,329...| 18.0|\n",
      "+--------------------+--------------------+-----+\n",
      "only showing top 20 rows\n",
      "\n"
     ]
    },
    {
     "data": {
      "text/plain": [
       "indexer: org.apache.spark.ml.feature.StringIndexer = strIdx_a4d08d0ef358\n",
       "indexed: org.apache.spark.sql.DataFrame = [category: string, features: vector ... 1 more field]\n"
      ]
     },
     "execution_count": 54,
     "metadata": {},
     "output_type": "execute_result"
    }
   ],
   "source": [
    "// encode category to numerical label\n",
    "val indexer = new StringIndexer()\n",
    ".setInputCol(\"category\")\n",
    ".setOutputCol(\"label\")\n",
    "\n",
    "val indexed = indexer.fit(rescaledData).transform(rescaledData)\n",
    "indexed.show()"
   ]
  },
  {
   "cell_type": "code",
   "execution_count": 55,
   "id": "7e4e6779-5ef6-487f-ae36-93abf42fd507",
   "metadata": {
    "tags": []
   },
   "outputs": [
    {
     "name": "stdout",
     "output_type": "stream",
     "text": [
      "+--------------------+--------------------+-----+--------------------+\n",
      "|            category|            features|label|   selected_features|\n",
      "+--------------------+--------------------+-----+--------------------+\n",
      "|Health_and_Person...|(262144,[7,55,71,...| 11.0|(2000,[0,1,2,3,4,...|\n",
      "|        Kindle_Store|(262144,[150,169,...| 13.0|(2000,[0,1,2,3,4,...|\n",
      "|                Baby|(262144,[329,343,...|  2.0|(2000,[0,1,3,4,5,...|\n",
      "|       Movies_and_TV|(262144,[2,6,19,4...| 14.0|(2000,[0,2,3,4,5,...|\n",
      "|Clothing_Shoes_an...|(262144,[149,150,...|  7.0|(2000,[0,1,2,3,4,...|\n",
      "|                Book|(262144,[2,5,6,13...|  4.0|(2000,[0,1,2,3,4,...|\n",
      "|          Automotive|(262144,[329,343,...|  1.0|(2000,[0,1,2,3,4,...|\n",
      "|  Sports_and_Outdoor|(262144,[42,55,13...| 19.0|(2000,[0,1,2,3,4,...|\n",
      "|    Apps_for_Android|(262144,[300,329,...|  0.0|(2000,[0,5,6,7,9,...|\n",
      "|Tools_and_Home_Im...|(262144,[7,55,116...| 20.0|(2000,[0,1,2,3,4,...|\n",
      "|Cell_Phones_and_A...|(262144,[107,150,...|  6.0|(2000,[0,1,2,3,4,...|\n",
      "|       CDs_and_Vinyl|(262144,[2,5,6,19...|  5.0|(2000,[0,2,3,4,5,...|\n",
      "|          Electronic|(262144,[7,13,20,...|  9.0|(2000,[0,1,2,3,4,...|\n",
      "|         Pet_Supplie|(262144,[7,83,329...| 18.0|(2000,[0,1,2,3,4,...|\n",
      "|Grocery_and_Gourm...|(262144,[7,329,34...| 10.0|(2000,[0,1,3,5,6,...|\n",
      "|     Home_and_Kitche|(262144,[7,55,181...| 12.0|(2000,[0,1,2,3,4,...|\n",
      "|       Toys_and_Game|(262144,[7,150,19...| 21.0|(2000,[0,1,2,3,4,...|\n",
      "|       Digital_Music|(262144,[19,50,15...|  8.0|(2000,[2,3,4,5,6,...|\n",
      "|  Musical_Instrument|(262144,[5,150,21...| 15.0|(2000,[0,1,2,3,4,...|\n",
      "|Patio_Lawn_and_Garde|(262144,[6,55,298...| 17.0|(2000,[0,1,2,3,4,...|\n",
      "+--------------------+--------------------+-----+--------------------+\n",
      "only showing top 20 rows\n",
      "\n"
     ]
    },
    {
     "data": {
      "text/plain": [
       "selector: org.apache.spark.ml.feature.ChiSqSelector = chiSqSelector_d7674da3b460\n",
       "result: org.apache.spark.sql.DataFrame = [category: string, features: vector ... 2 more fields]\n"
      ]
     },
     "execution_count": 55,
     "metadata": {},
     "output_type": "execute_result"
    }
   ],
   "source": [
    "val selector = new ChiSqSelector()\n",
    ".setNumTopFeatures(k)\n",
    ".setFeaturesCol(idf.getOutputCol)\n",
    ".setLabelCol(\"label\")\n",
    ".setOutputCol(\"selected_features\")\n",
    "\n",
    "val result = selector.fit(indexed).transform(indexed)\n",
    "result.show()"
   ]
  },
  {
   "cell_type": "code",
   "execution_count": 56,
   "id": "4e5960b1-1fc1-4719-a7f8-326d0cdc10a1",
   "metadata": {
    "tags": []
   },
   "outputs": [
    {
     "data": {
      "text/plain": [
       "import org.apache.spark.ml.Pipeline\n",
       "import org.apache.spark.ml.util.DefaultParamsWritable\n",
       "import org.apache.spark.sql.DataFrame\n",
       "import org.apache.spark.sql.functions._\n",
       "import org.apache.spark.ml.feature.{StringIndexer, HashingTF, IDF, Tokenizer, StopWordsRemover, ChiSqSelector}\n",
       "defined class CustomStopWordsRemover\n",
       "defined class CustomTokenizer\n",
       "tokenizer: org.apache.spark.ml.feature.Tokenizer = tok_4dea812d6995\n",
       "stopWordsFile: String = stopwords.txt\n",
       "remover: CustomStopWordsRemover = StopWordsRemover: uid=stopWords_8074a1f7ea90, numStopWords=596, locale=en_US, caseSensitive=false\n",
       "hashingTF: org.apache.spark.ml.feature.HashingTF = HashingTF: uid=hashingTF_cf179d3ff0cf, binary=false, numFeatures=262144\n",
       "idf: org.apache.spark.ml.feature.IDF = idf_ad649cfaba48\n",
       "indexer: org.apache.spark.ml.featu...\n"
      ]
     },
     "execution_count": 56,
     "metadata": {},
     "output_type": "execute_result"
    }
   ],
   "source": [
    "import org.apache.spark.ml.Pipeline\n",
    "import org.apache.spark.ml.util.DefaultParamsWritable\n",
    "import org.apache.spark.sql.DataFrame\n",
    "import org.apache.spark.sql.functions._\n",
    "import org.apache.spark.ml.feature.{StringIndexer, HashingTF, IDF, Tokenizer, StopWordsRemover,ChiSqSelector}\n",
    "\n",
    "\n",
    "class CustomStopWordsRemover(stopWordsFile: String) extends StopWordsRemover {\n",
    "    // load and set custom stop words\n",
    "    val customStopWords: Array[String] = scala.io.Source.fromFile(stopWordsFile).getLines.toArray\n",
    "    setStopWords(customStopWords)    \n",
    "}\n",
    "\n",
    "class CustomTokenizer extends Tokenizer with DefaultParamsWritable {\n",
    "  // use splitting pattern from exercise 1\n",
    "  override protected def createTransformFunc: String => Seq[String] = { input =>\n",
    "    input.toLowerCase.split(split_pattern).toSeq.filter(_.length > 1)\n",
    "  }\n",
    "}\n",
    "\n",
    "\n",
    "// tokenize\n",
    "val tokenizer = new CustomTokenizer()\n",
    ".setInputCol(\"reviewText\")\n",
    ".setOutputCol(\"words\")\n",
    "\n",
    "// remove stopwords\n",
    "val stopWordsFile = path_to_stopwords\n",
    "val remover = new CustomStopWordsRemover(stopWordsFile)\n",
    ".setInputCol(tokenizer.getOutputCol)\n",
    ".setOutputCol(\"filtered\")\n",
    "\n",
    "// turn words into numerical features\n",
    "val hashingTF = new HashingTF()\n",
    ".setInputCol(remover.getOutputCol)\n",
    ".setOutputCol(\"rawFeatures\")\n",
    "\n",
    "// scale feature\n",
    "val idf = new IDF()\n",
    ".setInputCol(hashingTF.getOutputCol)\n",
    ".setOutputCol(\"features\")\n",
    "\n",
    "// encode category to numerical label\n",
    "val indexer = new StringIndexer()\n",
    ".setInputCol(\"category\")\n",
    ".setOutputCol(\"label\")\n",
    "\n",
    "// ChiSqSelector\n",
    "val selector = new ChiSqSelector()\n",
    ".setNumTopFeatures(k)\n",
    ".setFeaturesCol(idf.getOutputCol)\n",
    ".setLabelCol(indexer.getOutputCol)\n",
    ".setOutputCol(\"selected_features\")\n",
    "\n",
    "val pipeline = new Pipeline().setStages(Array(tokenizer, remover, hashingTF, idf, indexer, selector))"
   ]
  },
  {
   "cell_type": "code",
   "execution_count": 57,
   "id": "136d69fc-3647-4ac1-8a8c-c3b55383de8c",
   "metadata": {
    "tags": []
   },
   "outputs": [
    {
     "name": "stdout",
     "output_type": "stream",
     "text": [
      "+--------------------+-----+--------------------+\n",
      "|            category|label|   selected_features|\n",
      "+--------------------+-----+--------------------+\n",
      "|Health_and_Person...| 11.0|(2000,[0,1,2,3,4,...|\n",
      "|        Kindle_Store| 13.0|(2000,[0,1,2,3,4,...|\n",
      "|                Baby|  2.0|(2000,[0,1,3,4,5,...|\n",
      "|       Movies_and_TV| 14.0|(2000,[0,2,3,4,5,...|\n",
      "|Clothing_Shoes_an...|  7.0|(2000,[0,1,2,3,4,...|\n",
      "|                Book|  4.0|(2000,[0,1,2,3,4,...|\n",
      "|          Automotive|  1.0|(2000,[0,1,2,3,4,...|\n",
      "|  Sports_and_Outdoor| 19.0|(2000,[0,1,2,3,4,...|\n",
      "|    Apps_for_Android|  0.0|(2000,[0,5,6,7,9,...|\n",
      "|Tools_and_Home_Im...| 20.0|(2000,[0,1,2,3,4,...|\n",
      "|Cell_Phones_and_A...|  6.0|(2000,[0,1,2,3,4,...|\n",
      "|       CDs_and_Vinyl|  5.0|(2000,[0,2,3,4,5,...|\n",
      "|          Electronic|  9.0|(2000,[0,1,2,3,4,...|\n",
      "|         Pet_Supplie| 18.0|(2000,[0,1,2,3,4,...|\n",
      "|Grocery_and_Gourm...| 10.0|(2000,[0,1,3,5,6,...|\n",
      "|     Home_and_Kitche| 12.0|(2000,[0,1,2,3,4,...|\n",
      "|       Toys_and_Game| 21.0|(2000,[0,1,2,3,4,...|\n",
      "|       Digital_Music|  8.0|(2000,[2,3,4,5,6,...|\n",
      "|  Musical_Instrument| 15.0|(2000,[0,1,2,3,4,...|\n",
      "|Patio_Lawn_and_Garde| 17.0|(2000,[0,1,2,3,4,...|\n",
      "+--------------------+-----+--------------------+\n",
      "only showing top 20 rows\n",
      "\n"
     ]
    },
    {
     "data": {
      "text/plain": [
       "pipeLineModel: org.apache.spark.ml.PipelineModel = pipeline_1020592d71d3\n",
       "df: org.apache.spark.sql.DataFrame = [category: string, label: double ... 1 more field]\n"
      ]
     },
     "execution_count": 57,
     "metadata": {},
     "output_type": "execute_result"
    }
   ],
   "source": [
    "val pipeLineModel = pipeline.fit(reviewsDF)\n",
    "val df = pipeLineModel.transform(reviewsDF).select(\"category\", \"label\", \"selected_features\")\n",
    "df.show()"
   ]
  },
  {
   "cell_type": "code",
   "execution_count": 65,
   "id": "759f3c45-185b-4b11-8be7-ef20a015e87c",
   "metadata": {
    "tags": []
   },
   "outputs": [],
   "source": [
    "// save unfit pipeline\n",
    "pipeline.write.overwrite().save(\"pipeline\")"
   ]
  }
 ],
 "metadata": {
  "kernelspec": {
   "display_name": "spylon-kernel",
   "language": "scala",
   "name": "spylon-kernel"
  },
  "language_info": {
   "codemirror_mode": "text/x-scala",
   "file_extension": ".scala",
   "help_links": [
    {
     "text": "MetaKernel Magics",
     "url": "https://metakernel.readthedocs.io/en/latest/source/README.html"
    }
   ],
   "mimetype": "text/x-scala",
   "name": "scala",
   "pygments_lexer": "scala",
   "version": "0.4.1"
  }
 },
 "nbformat": 4,
 "nbformat_minor": 5
}
